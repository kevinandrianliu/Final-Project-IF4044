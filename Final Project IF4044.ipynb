{
 "cells": [
  {
   "cell_type": "markdown",
   "metadata": {},
   "source": [
    "# A Large Scale Sentiment Data Classification For Online Reviews Under Apache Spark"
   ]
  },
  {
   "cell_type": "markdown",
   "metadata": {},
   "source": [
    "This dataset consists of a few million Amazon customer reviews (input text) and star ratings (output labels) for learning how to train fastText for sentiment analysis. The idea here is a dataset is more than a toy - real business data on a reasonable scale - but can be trained in minutes on a modest laptop."
   ]
  },
  {
   "cell_type": "markdown",
   "metadata": {},
   "source": [
    "Team Member : \n",
    "\n",
    "Seldi Kurnia T\t\t\t\t13516042\n",
    "\n",
    "I Putu Eka Surya A\t\t\t13516061\n",
    "\n",
    "Tanor Abaraham \t\t\t\t13516088\n",
    "\n",
    "Gerardus Samudra S \t\t\t13516103\n",
    "\n",
    "Kevin Andrian L \t\t\t13516118\n",
    "\n",
    "Regi Arjuna Purba \t\t\t13516149"
   ]
  },
  {
   "cell_type": "markdown",
   "metadata": {},
   "source": [
    "## Read from File and Convert to Dataframe"
   ]
  },
  {
   "cell_type": "code",
   "execution_count": 16,
   "metadata": {},
   "outputs": [
    {
     "name": "stdout",
     "output_type": "stream",
     "text": [
      "+--------------------+--------------------+-----+\n",
      "|               title|                text|label|\n",
      "+--------------------+--------------------+-----+\n",
      "|Stuning even for ...|This sound track ...|    2|\n",
      "|The best soundtra...|I'm reading a lot...|    2|\n",
      "|            Amazing!|\"This soundtrack ...|    2|\n",
      "|Excellent Soundtrack|I truly like this...|    2|\n",
      "|Remember, Pull Yo...|If you've played ...|    2|\n",
      "|an absolute maste...|I am quite sure a...|    2|\n",
      "|        Buyer beware|\"This is a self-p...|    1|\n",
      "|      Glorious story|I loved Whisper o...|    2|\n",
      "|    A FIVE STAR BOOK|I just finished r...|    2|\n",
      "|Whispers of the W...|This was a easy t...|    2|\n",
      "|          The Worst!|A complete waste ...|    1|\n",
      "|          Great book|This was a great ...|    2|\n",
      "|          Great Read|I thought this bo...|    2|\n",
      "|           Oh please|I guess you have ...|    1|\n",
      "|Awful beyond belief!|\"I feel I have to...|    1|\n",
      "|Don't try to fool...|It's glaringly ob...|    1|\n",
      "|A romantic zen ba...|\"When you hear fo...|    2|\n",
      "|Fashionable Compr...|After I had a DVT...|    2|\n",
      "|Jobst UltraSheer ...|Excellent product...|    2|\n",
      "|sizes recomended ...|sizes are much sm...|    1|\n",
      "+--------------------+--------------------+-----+\n",
      "only showing top 20 rows\n",
      "\n",
      "Total train data: 3600000\n",
      "Total train data with positive class: 1800000\n",
      "Total train data with negative class: 1800000\n",
      "+--------------------+--------------------+-----+\n",
      "|               title|                text|label|\n",
      "+--------------------+--------------------+-----+\n",
      "|            Great CD|\"My lovely Pat ha...|    2|\n",
      "|One of the best g...|Despite the fact ...|    2|\n",
      "|Batteries died wi...|I bought this cha...|    1|\n",
      "|works fine, but M...|Check out Maha En...|    2|\n",
      "|Great for the non...|Reviewed quite a ...|    2|\n",
      "|DVD Player crappe...|I also began havi...|    1|\n",
      "|      Incorrect Disc|I love the style ...|    1|\n",
      "|DVD menu select p...|I cannot scroll t...|    1|\n",
      "|Unique Weird Orie...|\"Exotic tales of ...|    2|\n",
      "|\"Not an \"\"ultimat...|Firstly,I enjoyed...|    1|\n",
      "|Great book for tr...|I currently live ...|    2|\n",
      "|                Not!|If you want to li...|    1|\n",
      "|     A complete Bust|\"This game requir...|    1|\n",
      "|TRULY MADE A DIFF...|I have been using...|    2|\n",
      "|didn't run off of...|Was hoping that t...|    1|\n",
      "|          Don't buy!|First of all, the...|    1|\n",
      "|Simple, Durable, ...|This is an AWESOM...|    2|\n",
      "|Review of Kelly C...|For the price of ...|    2|\n",
      "|SOY UN APASIONADO...|Y ESTE LIBRO ESTÁ...|    2|\n",
      "|Some of the best ...|This is an excell...|    2|\n",
      "+--------------------+--------------------+-----+\n",
      "only showing top 20 rows\n",
      "\n",
      "Total test data: 400000\n",
      "Total test data with positive class: 200000\n",
      "Total test data with negative class: 200000\n"
     ]
    }
   ],
   "source": [
    "from pyspark.sql import SparkSession\n",
    "from pyspark.sql.types import *\n",
    "from pyspark.sql.functions import *\n",
    "from pyspark.ml.feature import Tokenizer, StopWordsRemover, CountVectorizer, IDF, StringIndexer\n",
    "from pyspark.ml import Pipeline\n",
    "import re\n",
    "from pyspark_dist_explore import hist\n",
    "import matplotlib.pyplot as plt\n",
    "\n",
    "spark = SparkSession \\\n",
    "    .builder \\\n",
    "    .appName(\"dataframe-spark\") \\\n",
    "    .config(\"spark.some.config.option\", \"some-value\") \\\n",
    "    .getOrCreate()\n",
    "\n",
    "def readandConverttoDF(path):\n",
    "    fields = StructType([\n",
    "                StructField(\"label\", IntegerType(), True), \n",
    "                StructField(\"title\", StringType(), True),\n",
    "                StructField(\"text\", StringType(), True),\n",
    "            ])\n",
    "    df = spark.read.csv(path, schema = fields, sep = \",\").select(\"title\", \"text\", \"label\")\n",
    "    return df\n",
    "\n",
    "train_data = readandConverttoDF(\"./data/train.csv\")\n",
    "test_data = readandConverttoDF(\"./data/test.csv\")\n",
    "\n",
    "# Beware, these prints take approximately 10 minutes in total. You can stop the execution here if you want to examine other cells\n",
    "train_data.show()\n",
    "print(\"Total train data:\", train_data.count())\n",
    "print(\"Total train data with positive class:\", train_data.filter(col('label') == 2).count())\n",
    "print(\"Total train data with negative class:\", train_data.filter(col('label') == 1).count())\n",
    "test_data.show()\n",
    "print(\"Total test data:\", test_data.count())\n",
    "print(\"Total test data with positive class:\", test_data.filter(col('label') == 2).count())\n",
    "print(\"Total test data with negative class:\", test_data.filter(col('label') == 1).count())"
   ]
  },
  {
   "cell_type": "markdown",
   "metadata": {},
   "source": [
    "## Exploratory Data Analysis"
   ]
  },
  {
   "cell_type": "markdown",
   "metadata": {},
   "source": [
    "### 1. Checking Null Values"
   ]
  },
  {
   "cell_type": "code",
   "execution_count": 17,
   "metadata": {},
   "outputs": [
    {
     "name": "stdout",
     "output_type": "stream",
     "text": [
      "+--------------------+----+-----+\n",
      "|               title|text|label|\n",
      "+--------------------+----+-----+\n",
      "|\"It's just like e...|null|    1|\n",
      "|\"Green in a \"\"Par...|null|    2|\n",
      "|\"TOO HARD FOR ME ...|null|    1|\n",
      "|\"second the \"\"Try...|null|    1|\n",
      "|\"too bad \"\"fold y...|null|    2|\n",
      "|\"I have only \"\"On...|null|    2|\n",
      "|\"i got a defect :...|null|    1|\n",
      "|\"Not Impressed:-\\...|null|    1|\n",
      "|              \"\"\"Out|null|    2|\n",
      "|In the words of L...|null|    1|\n",
      "|\"Should be called...|null|    1|\n",
      "|\": \",\"Doesn't wor...|null|    1|\n",
      "|\"did not work:\",\"...|null|    1|\n",
      "+--------------------+----+-----+\n",
      "\n",
      "+-----+--------------------+-----+\n",
      "|title|                text|label|\n",
      "+-----+--------------------+-----+\n",
      "| null|\"What separates t...|    1|\n",
      "| null|\"Falkenbach retur...|    2|\n",
      "| null|\"I am a Shakespea...|    2|\n",
      "| null|Goes at quite a s...|    2|\n",
      "| null|This Japanese ban...|    1|\n",
      "| null|this cd isnt band...|    1|\n",
      "| null|If your intereste...|    2|\n",
      "| null|\"Whether the lyri...|    1|\n",
      "| null|This show lacks m...|    1|\n",
      "| null|I love bass, love...|    1|\n",
      "| null|\"Blasting their w...|    2|\n",
      "| null|\"I remember writi...|    2|\n",
      "| null|\"Venganza transla...|    2|\n",
      "| null|A good book for t...|    1|\n",
      "| null|Not the most orig...|    1|\n",
      "| null|I got this for my...|    2|\n",
      "| null|\"Are people deaf?...|    2|\n",
      "| null|To describe this ...|    1|\n",
      "| null|\"I remember order...|    1|\n",
      "| null|\"Unless you're a ...|    1|\n",
      "+-----+--------------------+-----+\n",
      "only showing top 20 rows\n",
      "\n",
      "+-----+----+-----+\n",
      "|title|text|label|\n",
      "+-----+----+-----+\n",
      "+-----+----+-----+\n",
      "\n"
     ]
    }
   ],
   "source": [
    "# Beware, these checks take approximately 15 minutes in total.\n",
    "train_data.where(col(\"text\").isNull()).show()\n",
    "train_data.where(col(\"title\").isNull()).show()\n",
    "train_data.where(col(\"label\").isNull()).show()"
   ]
  },
  {
   "cell_type": "code",
   "execution_count": 18,
   "metadata": {},
   "outputs": [
    {
     "name": "stdout",
     "output_type": "stream",
     "text": [
      "+--------------------+----+-----+\n",
      "|               title|text|label|\n",
      "+--------------------+----+-----+\n",
      "|\"My brain hurts f...|null|    2|\n",
      "+--------------------+----+-----+\n",
      "\n",
      "+-----+--------------------+-----+\n",
      "|title|                text|label|\n",
      "+-----+--------------------+-----+\n",
      "| null|I can't give you ...|    1|\n",
      "| null|\"Some good rockin...|    1|\n",
      "| null|The Moon Under th...|    2|\n",
      "| null|Very interesting ...|    2|\n",
      "+-----+--------------------+-----+\n",
      "\n",
      "+-----+----+-----+\n",
      "|title|text|label|\n",
      "+-----+----+-----+\n",
      "+-----+----+-----+\n",
      "\n"
     ]
    }
   ],
   "source": [
    "test_data.where(col(\"text\").isNull()).show()\n",
    "test_data.where(col(\"title\").isNull()).show()\n",
    "test_data.where(col(\"label\").isNull()).show()"
   ]
  },
  {
   "cell_type": "markdown",
   "metadata": {},
   "source": [
    "### 2. Word Count and Length Text"
   ]
  },
  {
   "cell_type": "code",
   "execution_count": 19,
   "metadata": {},
   "outputs": [
    {
     "name": "stdout",
     "output_type": "stream",
     "text": [
      "+--------------------+--------------------+-----+---------+----------+\n",
      "|               title|                text|label|wordCount|textLength|\n",
      "+--------------------+--------------------+-----+---------+----------+\n",
      "|Stuning even for ...|This sound track ...|    2|       75|       394|\n",
      "|The best soundtra...|I'm reading a lot...|    2|       91|       470|\n",
      "|            Amazing!|\"This soundtrack ...|    2|       63|       370|\n",
      "|Excellent Soundtrack|I truly like this...|    2|      116|       721|\n",
      "|Remember, Pull Yo...|If you've played ...|    2|       77|       425|\n",
      "|an absolute maste...|I am quite sure a...|    2|      139|       800|\n",
      "|        Buyer beware|\"This is a self-p...|    1|      116|       631|\n",
      "|      Glorious story|I loved Whisper o...|    2|      103|       506|\n",
      "|    A FIVE STAR BOOK|I just finished r...|    2|       99|       506|\n",
      "|Whispers of the W...|This was a easy t...|    2|       58|       270|\n",
      "|          The Worst!|A complete waste ...|    1|       33|       204|\n",
      "|          Great book|This was a great ...|    2|       94|       458|\n",
      "|          Great Read|I thought this bo...|    2|       57|       284|\n",
      "|           Oh please|I guess you have ...|    1|       91|       481|\n",
      "|Awful beyond belief!|\"I feel I have to...|    1|       78|       405|\n",
      "|Don't try to fool...|It's glaringly ob...|    1|       45|       263|\n",
      "|A romantic zen ba...|\"When you hear fo...|    2|       49|       270|\n",
      "|Fashionable Compr...|After I had a DVT...|    2|      112|       622|\n",
      "|Jobst UltraSheer ...|Excellent product...|    2|       68|       342|\n",
      "|sizes recomended ...|sizes are much sm...|    1|       40|       192|\n",
      "+--------------------+--------------------+-----+---------+----------+\n",
      "only showing top 20 rows\n",
      "\n",
      "+--------------------+--------------------+-----+---------+----------+\n",
      "|               title|                text|label|wordCount|textLength|\n",
      "+--------------------+--------------------+-----+---------+----------+\n",
      "|            Great CD|\"My lovely Pat ha...|    2|      104|       527|\n",
      "|One of the best g...|Despite the fact ...|    2|      133|       742|\n",
      "|Batteries died wi...|I bought this cha...|    1|       54|       301|\n",
      "|works fine, but M...|Check out Maha En...|    2|       30|       190|\n",
      "|Great for the non...|Reviewed quite a ...|    2|       65|       382|\n",
      "|DVD Player crappe...|I also began havi...|    1|       66|       341|\n",
      "|      Incorrect Disc|I love the style ...|    1|       78|       392|\n",
      "|DVD menu select p...|I cannot scroll t...|    1|       38|       227|\n",
      "|Unique Weird Orie...|\"Exotic tales of ...|    2|       11|        59|\n",
      "|\"Not an \"\"ultimat...|Firstly,I enjoyed...|    1|      144|       856|\n",
      "|Great book for tr...|I currently live ...|    2|       35|       185|\n",
      "|                Not!|If you want to li...|    1|       29|       142|\n",
      "|     A complete Bust|\"This game requir...|    1|      139|       806|\n",
      "|TRULY MADE A DIFF...|I have been using...|    2|      110|       547|\n",
      "|didn't run off of...|Was hoping that t...|    1|       24|       119|\n",
      "|          Don't buy!|First of all, the...|    1|      140|       716|\n",
      "|Simple, Durable, ...|This is an AWESOM...|    2|      105|       570|\n",
      "|Review of Kelly C...|For the price of ...|    2|       58|       310|\n",
      "|SOY UN APASIONADO...|Y ESTE LIBRO ESTÁ...|    2|       37|       213|\n",
      "|Some of the best ...|This is an excell...|    2|       30|       157|\n",
      "+--------------------+--------------------+-----+---------+----------+\n",
      "only showing top 20 rows\n",
      "\n"
     ]
    }
   ],
   "source": [
    "data_train = train_data.withColumn('wordCount', size(split(col('text'), ' '))).withColumn('textLength', length(col('text')))\n",
    "data_test = test_data.withColumn('wordCount', size(split(col('text'), ' '))).withColumn('textLength', length(col('text')))\n",
    "data_train.show()\n",
    "data_test.show()"
   ]
  },
  {
   "cell_type": "code",
   "execution_count": 20,
   "metadata": {},
   "outputs": [],
   "source": [
    "data = data_train.union(data_test)"
   ]
  },
  {
   "cell_type": "code",
   "execution_count": null,
   "metadata": {},
   "outputs": [],
   "source": [
    "def plot_to_hist(data):\n",
    "    data_positive = data.filter(col('label') == 2)\n",
    "    data_negative = data.filter(col('label') == 1)\n",
    "    fig, ax = plt.subplots(nrows=2, ncols=2)\n",
    "    fig.set_size_inches(20, 20)\n",
    "\n",
    "    # Beware, these histograms take approximately 15 minutes in total\n",
    "    hist(ax[0,0], data_negative.select(\"wordCount\").alias(\"wordCountNegativeClass\"), bins = 50)\n",
    "    ax[0,0].set_title('wordCountNegativeClass')\n",
    "    hist(ax[0,1], data_positive.select(\"wordCount\").alias(\"wordCountPositiveClass\"), bins = 50)\n",
    "    ax[0,1].set_title('wordCountPositiveClass')\n",
    "    hist(ax[1,0], data_negative.select(\"textLength\").alias(\"textLengthNegativeClass\"), bins = 50)\n",
    "    ax[1,0].set_title('textLengthNegativeClass')\n",
    "    hist(ax[1,1], data_positive.select(\"textLength\").alias(\"textLengthPositiveClass\"), bins = 50)\n",
    "    ax[1,1].set_title('textLengthNegativeClass')\n",
    "\n",
    "plot_to_hist(data_train)"
   ]
  },
  {
   "cell_type": "markdown",
   "metadata": {},
   "source": [
    "## Data Preprocessing"
   ]
  },
  {
   "cell_type": "markdown",
   "metadata": {},
   "source": [
    "### 1. Removing Null Reviews"
   ]
  },
  {
   "cell_type": "code",
   "execution_count": 22,
   "metadata": {},
   "outputs": [
    {
     "name": "stdout",
     "output_type": "stream",
     "text": [
      "Total train data after removing null reviews: 3599987\n",
      "Total test data after removing null reviews: 399999\n"
     ]
    }
   ],
   "source": [
    "train_data = train_data.filter(train_data.text.isNotNull())\n",
    "print(\"Total train data after removing null reviews:\", train_data.count())\n",
    "test_data = test_data.filter(test_data.text.isNotNull())\n",
    "print(\"Total test data after removing null reviews:\", test_data.count())"
   ]
  },
  {
   "cell_type": "markdown",
   "metadata": {},
   "source": [
    "### 2. Noise Removal"
   ]
  },
  {
   "cell_type": "code",
   "execution_count": 23,
   "metadata": {},
   "outputs": [
    {
     "name": "stdout",
     "output_type": "stream",
     "text": [
      "+---------------------------------------------------------------------------------------------------------------------------------------------------------------------------------------------------------------------------------------------------------------------------------------------------------------------------------------------------------------------------------------------------------------------------------------------------------------------------------------------------------------------------------------------------------------------------------------------------------------------------------------------------------------------------------------------------------------------------------------------------------------------------------------------+-----+\n",
      "|noiseRemoval                                                                                                                                                                                                                                                                                                                                                                                                                                                                                                                                                                                                                                                                                                                                                                                 |label|\n",
      "+---------------------------------------------------------------------------------------------------------------------------------------------------------------------------------------------------------------------------------------------------------------------------------------------------------------------------------------------------------------------------------------------------------------------------------------------------------------------------------------------------------------------------------------------------------------------------------------------------------------------------------------------------------------------------------------------------------------------------------------------------------------------------------------------+-----+\n",
      "|This sound track was beautiful It paints the senery in your mind so well I would recomend it even to people who hate vid game music I have played the game Chrono Cross but out of all of the games I have ever played it has the best music It backs away from crude keyboarding and takes a fresher step with grate guitars and soulful orchestras It would impress anyone who cares to listen                                                                                                                                                                                                                                                                                                                                                                                             |2    |\n",
      "|Im reading a lot of reviews saying that this is the best game soundtrack and I figured that Id write a review to disagree a bit This in my opinino is Yasunori Mitsudas ultimate masterpiece The music is timeless and Im been listening to it for years now and its beauty simply refuses to fadeThe price tag on this is pretty staggering I must say but if you are going to buy any cd for this much money this is the only one that I feel would be worth every penny                                                                                                                                                                                                                                                                                                                   |2    |\n",
      "|This soundtrack is my favorite music of all time hands down The intense sadness of Prisoners of Fate which means all the more if youve played the game and the hope in A Distant Promise and Girl who Stole the Star have been an important inspiration to me personally throughout my teen years The higher energy tracks like Chrono Cross  Times Scar                                                                                                                                                                                                                                                                                                                                                                                                                                     |2    |\n",
      "|I truly like this soundtrack and I enjoy video game music I have played this game and most of the music on here I enjoy and its truly relaxing and peacefulOn disk one my favorites are Scars Of Time Between Life and Death Forest Of Illusion Fortress of Ancient Dragons Lost Fragment and Drowned ValleyDisk Two The Draggons Galdorb  Home Chronomantique Prisoners of Fate Gale and my girlfriend likes ZelbessDisk Three The best of the three Garden Of God Chronopolis Fates Jellyfish sea Burning Orphange Dragons Prayer Tower Of Stars Dragon God and Radical Dreamers  Unstealable JewelOverall this is a excellent soundtrack and should be brought by those that like video game musicXander Cross                                                                            |2    |\n",
      "|If youve played the game you know how divine the music is Every single song tells a story of the game its that good The greatest songs are without a doubt Chrono Cross Times Scar Magical Dreamers The Wind The Stars and the Sea and Radical Dreamers Unstolen Jewel Translation varies This music is perfect if you ask me the best it can be Yasunori Mitsuda just poured his heart on and wrote it down on paper                                                                                                                                                                                                                                                                                                                                                                        |2    |\n",
      "|I am quite sure any of you actually taking the time to read this have played the game at least once and heard at least a few of the tracks here And whether you were aware of it or not Mitsudas music contributed greatly to the mood of every single minute of the whole gameComposed of  CDs and quite a few songs I havent an exact count all of which are heartrendering and impressively remarkable this soundtrack is one I assure you you will not forget It has everything for every listener  from fastpaced and energetic Dancing the Tokage or Termina Home to slower and more haunting Dragon God to purely beautifully composed Times Scar to even some fantastic vocals Radical DreamersThis is one of the best videogame soundtracks out there and surely Mitsudas best ever |2    |\n",
      "|This is a selfpublished book and if you want to know whyread a few paragraphs Those  star reviews must have been written by Ms Haddons family and friendsor perhaps by herself I cant imagine anyone reading the whole thingI spent an evening with the book and a friend and we were in hysterics reading bits and pieces of it to one another It is most definitely bad enough to be entered into some kind of a worst book contest I cant believe Amazon even sells this kind of thing Maybe I can offer them my th grade term paper on To Kill a Mockingbirda book I am quite sure Ms Haddon never heard of Anyway                                                                                                                                                                       |1    |\n",
      "|I loved Whisper of the wicked saints The story was amazing and I was pleasantly surprised at the changes in the book I am not normaly someone who is into romance novels but the world was raving about this book and so I bought it I loved it  This is a brilliant story because it is so true This book was so wonderful that I have told all of my friends to read it It is not a typical romance it is so much more Not reading this book is a crime becuase you are missing out on a heart warming story                                                                                                                                                                                                                                                                               |2    |\n",
      "|I just finished reading Whisper of the Wicked saints I fell in love with the caracters I expected an average romance read but instead I found one of my favorite books of all time Just when I thought I could predict the outcome I was shocked  The writting was so descriptive that my heart broke when Julias did and I felt as if I was there with them instead of just a distant reader If you are a lover of romance novels then this is a must read Dont let the cover fool you this book is spectacular                                                                                                                                                                                                                                                                             |2    |\n",
      "|This was a easy to read book that made me want to keep reading on and on not easy to put downIt left me wanting to read the follow on which I hope is coming soon I used to read a lot but have gotten away from it This book made me want to read again Very enjoyable                                                                                                                                                                                                                                                                                                                                                                                                                                                                                                                      |2    |\n",
      "|A complete waste of time Typographical errors poor grammar and a totally pathetic plot add up to absolutely nothing Im embarrassed for this author and very disappointed I actually paid for this book                                                                                                                                                                                                                                                                                                                                                                                                                                                                                                                                                                                       |1    |\n",
      "|This was a great bookI just could not put it downand could not read it fast enough Boy what a book the twist and turns in this just keeps you guessing and wanting to know what is going to happen next This book makes you fall in love and can heat you upit can also make you so angery this book can make you go throu several of your emotions This is a quick read romance It is something that you will want to end your day off with if you read at night                                                                                                                                                                                                                                                                                                                            |2    |\n",
      "|I thought this book was brilliant but yet realistic It showed me that to error is human I loved the fact that this writer showed the loving side of God and not the revengeful side of him I loved how it twisted and turned and I could not put it down I also loved The glass castle                                                                                                                                                                                                                                                                                                                                                                                                                                                                                                       |2    |\n",
      "|I guess you have to be a romance novel lover for this one and not a very discerning one All others beware It is absolute drivel I figured I was in trouble when a typo is prominently featured on the back cover but the first page of the book removed all doubt Wait  maybe Im missing the point A quick reread of the beginning now makes it clear This has to be an intentional churning of overheated prose for satiric purposes Phew so glad I didnt waste  after all                                                                                                                                                                                                                                                                                                                  |1    |\n",
      "|I feel I have to write to keep others from wasting their money This book seems to have been written by a th grader with poor grammatical skills for her age As another reviewer points out there is a misspelling on the cover and I believe there is at least one per chapter For example it was mentioned twice that she had a lean on her house I was so distracted by the poor writing and weak plot                                                                                                                                                                                                                                                                                                                                                                                     |1    |\n",
      "|Its glaringly obvious that all of the glowing reviews have been written by the same person perhaps the author herself They all have the same misspellings and poor sentence structure that is featured in the book Who made Veronica Haddon think she is an author                                                                                                                                                                                                                                                                                                                                                                                                                                                                                                                           |1    |\n",
      "|When you hear folks say that they dont make em like that anymore they might be talking about BY THE SEA This is a very cool story about a young Cuban girl searching for idenity who stumbles into a coastal resort kitchen gig with a zen motorcycle maintenance man                                                                                                                                                                                                                                                                                                                                                                                                                                                                                                                        |2    |\n",
      "|After I had a DVT my doctor required me to wear compression stockings I wore ugly white TED hose and yucky thick brown stockings Then I found Jobst UltraSheer They gave me the compression I needed  but looked like regular pantyhose Even though my blood clot has been gone for  years I still buy these to wear as support stockings because they make my legs feel so niceNote I have problems with the rubberized tops rolling down my thigh I tried the Jobst adhesive but I hated having my skin pulled all day I bought an inexpensive garter belt and it works fine and helps keep the stockings from rolling                                                                                                                                                                     |2    |\n",
      "|Excellent product However they are very difficult to get on for older people I feel like Ive had a full day workout after getting them on Also as the day wears on they begin to roll down from the top and create a very deep ridge in the skin I have to wear them so if those two difficulties could be addressed it would be such a help                                                                                                                                                                                                                                                                                                                                                                                                                                                 |2    |\n",
      "|sizes are much smaller than what is recomended in the chart I tried to put it and sheer it I guess you should not buy this item in the internetit is better to go to the store and check it                                                                                                                                                                                                                                                                                                                                                                                                                                                                                                                                                                                                  |1    |\n",
      "+---------------------------------------------------------------------------------------------------------------------------------------------------------------------------------------------------------------------------------------------------------------------------------------------------------------------------------------------------------------------------------------------------------------------------------------------------------------------------------------------------------------------------------------------------------------------------------------------------------------------------------------------------------------------------------------------------------------------------------------------------------------------------------------------+-----+\n",
      "only showing top 20 rows\n",
      "\n"
     ]
    },
    {
     "name": "stdout",
     "output_type": "stream",
     "text": [
      "+-------------------------------------------------------------------------------------------------------------------------------------------------------------------------------------------------------------------------------------------------------------------------------------------------------------------------------------------------------------------------------------------------------------------------------------------------------------------------------------------------------------------------------------------------------------------------------------------------------------------------------------------------------------------------------------------------------------------------------------------------------------------------------------------------------------------------------------------------------------------+-----+\n",
      "|noiseRemoval                                                                                                                                                                                                                                                                                                                                                                                                                                                                                                                                                                                                                                                                                                                                                                                                                                                       |label|\n",
      "+-------------------------------------------------------------------------------------------------------------------------------------------------------------------------------------------------------------------------------------------------------------------------------------------------------------------------------------------------------------------------------------------------------------------------------------------------------------------------------------------------------------------------------------------------------------------------------------------------------------------------------------------------------------------------------------------------------------------------------------------------------------------------------------------------------------------------------------------------------------------+-----+\n",
      "|My lovely Pat has one of the GREAT voices of her generation I have listened to this CD for YEARS and I still LOVE IT When Im in a good mood it makes me feel better A bad mood just evaporates like sugar in the rain This CD just oozes LIFE Vocals are jusat STUUNNING and lyrics just kill One of lifes hidden gems This is a desert isle CD in my book Why she never made it big is just beyond me Everytime I play this no matter black white young old male female EVERYBODY says one thing Who was that singing                                                                                                                                                                                                                                                                                                                                             |2    |\n",
      "|Despite the fact that I have only played a small portion of the game the music I heard plus the connection to Chrono Trigger which was great as well led me to purchase the soundtrack and it remains one of my favorite albums There is an incredible mix of fun epic and emotional songs Those sad and beautiful tracks I especially like as theres not too many of those kinds of songs in my other video game soundtracks I must admit that one of the songs LifeA Distant Promise has brought tears to my eyes on many occasionsMy one complaint about this soundtrack is that they use guitar fretting effects in many of the songs which I find distracting But even if those werent included I would still consider the collection worth it                                                                                                                |2    |\n",
      "|I bought this charger in Jul  and it worked OK for a while The design is nice and convenient However after about a year the batteries would not hold a charge Might as well just get alkaline disposables or look elsewhere for a charger that comes with batteries that have better staying power                                                                                                                                                                                                                                                                                                                                                                                                                                                                                                                                                                 |1    |\n",
      "|Check out Maha Energys website Their Powerex MHCF charger works in  minutes for rapid charge with option for slower charge better for batteries And they have  mAh batteries                                                                                                                                                                                                                                                                                                                                                                                                                                                                                                                                                                                                                                                                                       |2    |\n",
      "|Reviewed quite a bit of the combo players and was hesitant due to unfavorable reviews and size of machines I am weaning off my VHS collection but dont want to replace them with DVDs This unit is well built easy to setup and resolution and special effects no progressive scan for HDTV owners suitable for many people looking for a versatile productCons No universal remote                                                                                                                                                                                                                                                                                                                                                                                                                                                                                |2    |\n",
      "|I also began having the incorrect disc problems that Ive read about on here The VCR still works but hte DVD side is useless I understand that DVD players sometimes just quit on you but after not even one year To me thats a sign on bad quality Im giving up JVC after this as well Im sticking to Sony or giving another brand a shot                                                                                                                                                                                                                                                                                                                                                                                                                                                                                                                          |1    |\n",
      "|I love the style of this but after a couple years the DVD is giving me problems It doesnt even work anymore and I use my broken PS Now I wouldnt recommend this Im just going to upgrade to a recorder now I wish it would work but I guess im giving up on JVC I really did like this one before it stopped working The dvd player gave me problems probably after a year of having it                                                                                                                                                                                                                                                                                                                                                                                                                                                                            |1    |\n",
      "|I cannot scroll through a DVD menu that is set up vertically The triangle keys will only select horizontally So I cannot select anything on most DVDs besides play No special features no language select nothing just play                                                                                                                                                                                                                                                                                                                                                                                                                                                                                                                                                                                                                                        |1    |\n",
      "|Exotic tales of the Orient from the s Dr Shen Fu                                                                                                                                                                                                                                                                                                                                                                                                                                                                                                                                                                                                                                                                                                                                                                                                                   |2    |\n",
      "|FirstlyI enjoyed the format and tone of the book how the author addressed the reader However I did not feel that she imparted any insider secrets that the book promised to reveal If you are just starting to research law school and do not know all the requirements of admission then this book may be a tremendous help If you have done your homework and are looking for an edge when it comes to admissions I recommend some more topicspecific books For example books on how to write your personal statment books geared specifically towards LSAT preparation Powerscore books were the most helpful for me and there are some websites with great advice geared towards aiding the individuals whom you are asking to write letters of recommendation Yet for those new to the entire affair this book can definitely clarify the requirements for you|1    |\n",
      "|I currently live in Europe and this is the book I recommend for my visitors It covers many countries colour pictures and is a nice starter for before you go and once you are there                                                                                                                                                                                                                                                                                                                                                                                                                                                                                                                                                                                                                                                                                |2    |\n",
      "|If you want to listen to El Duke  then it is better if you have access to his showerthis is not him it is a gimmickvery well orchestrated                                                                                                                                                                                                                                                                                                                                                                                                                                                                                                                                                                                                                                                                                                                          |1    |\n",
      "|This game requires quicktime  to workif you have a better version of quicktime I have  it will ask you to install the quicktime available on the CDif you click no it will not let you play So I begrudgingly clicked yes on the third try and it installed quicktime  THEN it tells me to please install the quicktime available on the disc It KEPT telling me that even after I uninstalled my version of quicktime  and reinstalled Barbie Rapunzel and quicktime  Very frustrating and the game absolutely will not work for me It keeps telling me over and over to install quicktime  tho Ive been through the installation process repeatedly It is NOT my operating system limitations This is a brand new computermerely weeks old with all the state of the art contraptions                                                                            |1    |\n",
      "|I have been using this product for a couple years now I started using it because my hair had gotten so dry from all the chemical treatments and relaxers This actualy came in the relaxer kit I tried it and could not beleive the difference it made with one use I could not find it in any of the stores at the time so I searched Amazon and they had it I absolutely love it It is the best moisturizing product I have used so far My hair is soft with good elasticity and it is not breaking anywhere close to what it was I am very happy with it                                                                                                                                                                                                                                                                                                         |2    |\n",
      "|Was hoping that this drive would run off of bus power but it required the adapter to actually work  I sent it back                                                                                                                                                                                                                                                                                                                                                                                                                                                                                                                                                                                                                                                                                                                                                 |1    |\n",
      "|First of all the company took my money and sent me an email telling me the product was shipped A week and a half later I received another email telling me that they are sorry but they dont actually have any of these items and if I received an email telling me it has shipped it was a mistakeWhen I finally got my money back I went through another company to buy the product and it wont work with my phone even though it depicts that it will I have sent numerous emails to the company  I cant actually find a phone number on their website  and I still have not gotten any kind of response What kind of customer service is that No one will help me with this problem My advice  dont waste your money                                                                                                                                           |1    |\n",
      "|This is an AWESOME game Almost everyone know tictactoe so it is EASY to learn and quick to play You cant play just once The twist is that your pieces are slightly different sizes  just big enough to gobble up your opponent The first person to make tictactoe wins but its not as easy as it looks when youre stuck in the mindset of just making three in a row and forget about the gobbling possibilities My  and  year olds will beat me even when Im trying to win Excellent beginning critical thinking game Grandparents loved playing it with the kids too                                                                                                                                                                                                                                                                                             |2    |\n",
      "|For the price of  this PC game is WELL worth it great graphics colorful and lots to do My four year old daughter is in love with the many tasks to complete in this game including dressing and grooming wide variety of pets and decoration of numerous floats to show in your little ones very own parade                                                                                                                                                                                                                                                                                                                                                                                                                                                                                                                                                        |2    |\n",
      "|Y ESTE LIBRO EST ESPLNDIDO Lo disfrutas lo puedes usar como obra de consultaNos trae LAS HISTORIA DE LOS BOXEADORES MS BRILLANTES DE LOS CAMPEONES DURANTE CIEN AOS Si te gusta el boxNO TE LO PIERDAS                                                                                                                                                                                                                                                                                                                                                                                                                                                                                                                                                                                                                                                             |2    |\n",
      "|This is an excellent album with some great fiddle playing Ryan is amazing to watch when he plays in person You can feel the emotion he puts into each song                                                                                                                                                                                                                                                                                                                                                                                                                                                                                                                                                                                                                                                                                                         |2    |\n",
      "+-------------------------------------------------------------------------------------------------------------------------------------------------------------------------------------------------------------------------------------------------------------------------------------------------------------------------------------------------------------------------------------------------------------------------------------------------------------------------------------------------------------------------------------------------------------------------------------------------------------------------------------------------------------------------------------------------------------------------------------------------------------------------------------------------------------------------------------------------------------------+-----+\n",
      "only showing top 20 rows\n",
      "\n"
     ]
    }
   ],
   "source": [
    "train_data = train_data.select(regexp_replace(col(\"text\"),\"[^a-zA-Z\\s]\", \"\").alias(\"noiseRemoval\"), \"label\")\n",
    "train_data.show(truncate=False)\n",
    "test_data = test_data.select(regexp_replace(col(\"text\"),\"[^a-zA-Z\\s]\", \"\").alias(\"noiseRemoval\"), \"label\")\n",
    "test_data.show(truncate=False)"
   ]
  },
  {
   "cell_type": "markdown",
   "metadata": {},
   "source": [
    "### 3. Tokenization"
   ]
  },
  {
   "cell_type": "code",
   "execution_count": 24,
   "metadata": {},
   "outputs": [],
   "source": [
    "tokenizer = Tokenizer(inputCol=\"noiseRemoval\", outputCol=\"tokens\")"
   ]
  },
  {
   "cell_type": "markdown",
   "metadata": {},
   "source": [
    "### 4. Stopwords Removal"
   ]
  },
  {
   "cell_type": "code",
   "execution_count": 25,
   "metadata": {},
   "outputs": [],
   "source": [
    "remover = StopWordsRemover(inputCol=\"tokens\", outputCol=\"tokensWithoutStopwords\")"
   ]
  },
  {
   "cell_type": "markdown",
   "metadata": {},
   "source": [
    "## Feature Extraction"
   ]
  },
  {
   "cell_type": "code",
   "execution_count": 26,
   "metadata": {},
   "outputs": [
    {
     "name": "stdout",
     "output_type": "stream",
     "text": [
      "+--------------------+-----+--------------------+----------------------+--------------------+--------------------+------+\n",
      "|        noiseRemoval|label|              tokens|tokensWithoutStopwords|         rawFeatures|            features|target|\n",
      "+--------------------+-----+--------------------+----------------------+--------------------+--------------------+------+\n",
      "|This sound track ...|    2|[this, sound, tra...|  [sound, track, be...|(262144,[13,14,31...|(262144,[13,14,31...|   0.0|\n",
      "|Im reading a lot ...|    2|[im, reading, a, ...|  [im, reading, lot...|(262144,[2,15,20,...|(262144,[2,15,20,...|   0.0|\n",
      "|This soundtrack i...|    2|[this, soundtrack...|  [soundtrack, favo...|(262144,[0,3,8,42...|(262144,[0,3,8,42...|   0.0|\n",
      "|I truly like this...|    2|[i, truly, like, ...|  [truly, like, sou...|(262144,[0,2,3,8,...|(262144,[0,2,3,8,...|   0.0|\n",
      "|If youve played t...|    2|[if, youve, playe...|  [youve, played, g...|(262144,[4,30,31,...|(262144,[4,30,31,...|   0.0|\n",
      "|I am quite sure a...|    2|[i, am, quite, su...|  [quite, sure, act...|(262144,[0,2,7,8,...|(262144,[0,2,7,8,...|   0.0|\n",
      "|This is a selfpub...|    1|[this, is, a, sel...|  [selfpublished, b...|(262144,[0,1,2,14...|(262144,[0,1,2,14...|   1.0|\n",
      "|I loved Whisper o...|    2|[i, loved, whispe...|  [loved, whisper, ...|(262144,[0,1,7,15...|(262144,[0,1,7,15...|   0.0|\n",
      "|I just finished r...|    2|[i, just, finishe...|  [finished, readin...|(262144,[0,1,2,7,...|(262144,[0,1,2,7,...|   0.0|\n",
      "|This was a easy t...|    2|[this, was, a, ea...|  [easy, read, book...|(262144,[1,7,44,4...|(262144,[1,7,44,4...|   0.0|\n",
      "|A complete waste ...|    1|[a, complete, was...|  [complete, waste,...|(262144,[1,8,25,1...|(262144,[1,8,25,1...|   1.0|\n",
      "|This was a great ...|    2|[this, was, a, gr...|  [great, booki, pu...|(262144,[1,5,7,16...|(262144,[1,5,7,16...|   0.0|\n",
      "|I thought this bo...|    2|[i, thought, this...|  [thought, book, b...|(262144,[1,21,63,...|(262144,[1,21,63,...|   0.0|\n",
      "|I guess you have ...|    1|[i, guess, you, h...|  [guess, romance, ...|(262144,[0,1,2,12...|(262144,[0,1,2,12...|   1.0|\n",
      "|I feel I have to ...|    1|[i, feel, i, have...|  [feel, write, kee...|(262144,[1,2,45,6...|(262144,[1,2,45,6...|   1.0|\n",
      "|Its glaringly obv...|    1|[its, glaringly, ...|  [glaringly, obvio...|(262144,[1,32,44,...|(262144,[1,32,44,...|   1.0|\n",
      "|When you hear fol...|    2|[when, you, hear,...|  [hear, folks, say...|(262144,[3,10,30,...|(262144,[3,10,30,...|   0.0|\n",
      "|After I had a DVT...|    2|[after, i, had, a...|  [dvt, doctor, req...|(262144,[0,3,14,1...|(262144,[0,3,14,1...|   0.0|\n",
      "|Excellent product...|    2|[excellent, produ...|  [excellent, produ...|(262144,[3,6,18,2...|(262144,[3,6,18,2...|   0.0|\n",
      "|sizes are much sm...|    1|[sizes, are, much...|  [sizes, much, sma...|(262144,[15,20,22...|(262144,[15,20,22...|   1.0|\n",
      "+--------------------+-----+--------------------+----------------------+--------------------+--------------------+------+\n",
      "only showing top 20 rows\n",
      "\n",
      "+--------------------+-----+--------------------+----------------------+--------------------+--------------------+------+\n",
      "|        noiseRemoval|label|              tokens|tokensWithoutStopwords|         rawFeatures|            features|target|\n",
      "+--------------------+-----+--------------------+----------------------+--------------------+--------------------+------+\n",
      "|My lovely Pat has...|    2|[my, lovely, pat,...|  [lovely, pat, one...|(262144,[1,2,3,4,...|(262144,[1,2,3,4,...|   0.0|\n",
      "|Despite the fact ...|    2|[despite, the, fa...|  [despite, fact, p...|(262144,[2,3,5,13...|(262144,[2,3,5,13...|   0.0|\n",
      "|I bought this cha...|    1|[i, bought, this,...|  [bought, charger,...|(262144,[0,6,13,1...|(262144,[0,6,13,1...|   1.0|\n",
      "|Check out Maha En...|    2|[check, out, maha...|  [check, maha, ene...|(262144,[0,22,91,...|(262144,[0,22,91,...|   0.0|\n",
      "|Reviewed quite a ...|    2|[reviewed, quite,...|  [reviewed, quite,...|(262144,[10,13,27...|(262144,[10,13,27...|   0.0|\n",
      "|I also began havi...|    1|[i, also, began, ...|  [also, began, inc...|(262144,[2,7,13,1...|(262144,[2,7,13,1...|   1.0|\n",
      "|I love the style ...|    1|[i, love, the, st...|  [love, style, cou...|(262144,[2,3,9,14...|(262144,[2,3,9,14...|   1.0|\n",
      "|I cannot scroll t...|    1|[i, cannot, scrol...|  [scroll, dvd, men...|(262144,[67,94,10...|(262144,[67,94,10...|   1.0|\n",
      "|Exotic tales of t...|    2|[exotic, tales, o...|  [exotic, tales, o...|(262144,[995,2266...|(262144,[995,2266...|   0.0|\n",
      "|FirstlyI enjoyed ...|    1|[firstlyi, enjoye...|  [firstlyi, enjoye...|(262144,[1,5,26,3...|(262144,[1,5,26,3...|   1.0|\n",
      "|I currently live ...|    2|[i, currently, li...|  [currently, live,...|(262144,[1,27,52,...|(262144,[1,27,52,...|   0.0|\n",
      "|If you want to li...|    1|[if, you, want, t...|  [want, listen, el...|(262144,[0,13,22,...|(262144,[0,13,22,...|   1.0|\n",
      "|This game require...|    1|[this, game, requ...|  [game, requires, ...|(262144,[0,14,22,...|(262144,[0,14,22,...|   1.0|\n",
      "|I have been using...|    2|[i, have, been, u...|  [using, product, ...|(262144,[2,4,8,16...|(262144,[2,4,8,16...|   0.0|\n",
      "|Was hoping that t...|    1|[was, hoping, tha...|  [hoping, drive, r...|(262144,[0,23,33,...|(262144,[0,23,33,...|   1.0|\n",
      "|First of all the ...|    1|[first, of, all, ...|  [first, company, ...|(262144,[0,2,10,1...|(262144,[0,2,10,1...|   1.0|\n",
      "|This is an AWESOM...|    2|[this, is, an, aw...|  [awesome, game, a...|(262144,[0,12,14,...|(262144,[0,12,14,...|   0.0|\n",
      "|For the price of ...|    2|[for, the, price,...|  [price, , pc, gam...|(262144,[0,5,13,1...|(262144,[0,5,13,1...|   0.0|\n",
      "|Y ESTE LIBRO EST ...|    2|[y, este, libro, ...|  [y, este, libro, ...|(262144,[718,753,...|(262144,[718,753,...|   0.0|\n",
      "|This is an excell...|    2|[this, is, an, ex...|  [excellent, album...|(262144,[5,35,117...|(262144,[5,35,117...|   0.0|\n",
      "+--------------------+-----+--------------------+----------------------+--------------------+--------------------+------+\n",
      "only showing top 20 rows\n",
      "\n"
     ]
    }
   ],
   "source": [
    "count_vectorizer = CountVectorizer(inputCol=\"tokensWithoutStopwords\", outputCol=\"rawFeatures\")\n",
    "idf = IDF(inputCol=\"rawFeatures\", outputCol=\"features\")\n",
    "label_to_index = StringIndexer(inputCol = \"label\", outputCol = \"target\")\n",
    "\n",
    "pipeline = Pipeline(stages=[tokenizer, remover, count_vectorizer, idf, label_to_index])\n",
    "\n",
    "fitting = pipeline.fit(train_data)\n",
    "train_data = fitting.transform(train_data)\n",
    "test_data = fitting.transform(test_data)\n",
    "train_data.show()\n",
    "test_data.show()"
   ]
  },
  {
   "cell_type": "markdown",
   "metadata": {},
   "source": [
    "### Naive Bayes Algorithm"
   ]
  },
  {
   "cell_type": "code",
   "execution_count": 28,
   "metadata": {},
   "outputs": [
    {
     "name": "stdout",
     "output_type": "stream",
     "text": [
      "+--------------------+-----+--------------------+--------------------+----------+\n",
      "|            features|label|       rawPrediction|         probability|prediction|\n",
      "+--------------------+-----+--------------------+--------------------+----------+\n",
      "|(262144,[1,2,3,4,...|  0.0|[-2164.4309793119...|[1.0,1.6957215180...|       0.0|\n",
      "|(262144,[2,3,5,13...|  0.0|[-2699.5954853610...|[1.0,1.6919322396...|       0.0|\n",
      "|(262144,[0,6,13,1...|  1.0|[-1189.6424315314...|[4.60928361890479...|       1.0|\n",
      "|(262144,[0,22,91,...|  0.0|[-1194.0128720608...|[1.33065926102642...|       1.0|\n",
      "|(262144,[10,13,27...|  0.0|[-2021.8494276535...|[0.99999995224607...|       0.0|\n",
      "|(262144,[2,7,13,1...|  1.0|[-1386.2800130818...|[4.00757576297259...|       1.0|\n",
      "|(262144,[2,3,9,14...|  1.0|[-1133.6048473531...|[4.81895883807624...|       1.0|\n",
      "|(262144,[67,94,10...|  1.0|[-1071.3197696635...|[3.32563981196525...|       1.0|\n",
      "|(262144,[995,2266...|  0.0|[-533.00659254808...|[0.99999999998883...|       0.0|\n",
      "|(262144,[1,5,26,3...|  1.0|[-3514.7379154742...|[0.99999989199610...|       0.0|\n",
      "|(262144,[1,27,52,...|  0.0|[-614.97058385755...|[0.99999999999974...|       0.0|\n",
      "|(262144,[0,13,22,...|  1.0|[-595.88523482470...|[0.99999995344087...|       0.0|\n",
      "|(262144,[0,14,22,...|  1.0|[-3838.0021342436...|[9.05645245914624...|       1.0|\n",
      "|(262144,[2,4,8,16...|  0.0|[-1881.2793307047...|[0.99998290150232...|       0.0|\n",
      "|(262144,[0,23,33,...|  1.0|[-436.41451409164...|[5.07404201043887...|       1.0|\n",
      "|(262144,[0,2,10,1...|  1.0|[-2114.8605718280...|[8.70822960239459...|       1.0|\n",
      "|(262144,[0,12,14,...|  0.0|[-2503.5321115819...|[1.0,6.8408979322...|       0.0|\n",
      "|(262144,[0,5,13,1...|  0.0|[-1361.6051417791...|[0.99999999999999...|       0.0|\n",
      "|(262144,[718,753,...|  0.0|[-2927.1710123821...|[1.0,8.9435058645...|       0.0|\n",
      "|(262144,[5,35,117...|  0.0|[-528.47118790968...|[0.99999999999999...|       0.0|\n",
      "+--------------------+-----+--------------------+--------------------+----------+\n",
      "only showing top 20 rows\n",
      "\n",
      "Test set accuracy = 0.8015545038862597\n"
     ]
    }
   ],
   "source": [
    "from pyspark.ml.classification import NaiveBayes\n",
    "from pyspark.ml.evaluation import MulticlassClassificationEvaluator\n",
    "\n",
    "# create the trainer and set its parameters\n",
    "nb = NaiveBayes(smoothing=1.0, modelType=\"multinomial\")\n",
    "\n",
    "# train the model\n",
    "model = nb.fit(train_data.select(col(\"features\"), col(\"target\").alias(\"label\")))\n",
    "\n",
    "# select example rows to display.\n",
    "predictions = model.transform(test_data.select(col(\"features\"), col(\"target\").alias(\"label\")))\n",
    "predictions.show()\n",
    "\n",
    "# compute accuracy on the test set\n",
    "evaluator = MulticlassClassificationEvaluator(labelCol=\"label\", predictionCol=\"prediction\",metricName=\"accuracy\")\n",
    "accuracy = evaluator.evaluate(predictions)\n",
    "print(\"Test set accuracy = \" + str(accuracy))"
   ]
  },
  {
   "cell_type": "markdown",
   "metadata": {},
   "source": [
    "### Support Vector Machine Algorithm"
   ]
  },
  {
   "cell_type": "code",
   "execution_count": null,
   "metadata": {},
   "outputs": [],
   "source": [
    "from pyspark.ml.classification import LinearSVC\n",
    "\n",
    "lsvc = LinearSVC(maxIter=10, regParam=0.1, featuresCol='features', labelCol='label')\n",
    "\n",
    "lsvcModel = lsvc.fit(train_data.select(col(\"features\"), col(\"target\").alias(\"label\")))\n",
    "\n",
    "# select example rows to display.\n",
    "predictions = lsvcModel.transform(test_data.select(col(\"features\"), col(\"target\").alias(\"label\")))\n",
    "predictions.show()\n",
    "\n",
    "# compute accuracy on the test set\n",
    "evaluator = MulticlassClassificationEvaluator(labelCol=\"label\", predictionCol=\"prediction\",metricName=\"accuracy\")"
   ]
  }
 ],
 "metadata": {
  "kernelspec": {
   "display_name": "Python 3",
   "language": "python",
   "name": "python3"
  },
  "language_info": {
   "codemirror_mode": {
    "name": "ipython",
    "version": 3
   },
   "file_extension": ".py",
   "mimetype": "text/x-python",
   "name": "python",
   "nbconvert_exporter": "python",
   "pygments_lexer": "ipython3",
   "version": "3.7.4"
  }
 },
 "nbformat": 4,
 "nbformat_minor": 2
}
