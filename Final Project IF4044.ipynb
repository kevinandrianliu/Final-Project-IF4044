{
 "cells": [
  {
   "cell_type": "markdown",
   "metadata": {},
   "source": [
    "# Read from File and Convert to Dataframe"
   ]
  },
  {
   "cell_type": "code",
   "execution_count": 86,
   "metadata": {},
   "outputs": [
    {
     "name": "stdout",
     "output_type": "stream",
     "text": [
      "+--------------------+--------------------+-----+\n",
      "|               title|                text|label|\n",
      "+--------------------+--------------------+-----+\n",
      "|Stuning even for ...|This sound track ...|    2|\n",
      "|The best soundtra...|I'm reading a lot...|    2|\n",
      "|            Amazing!|This soundtrack i...|    2|\n",
      "|Excellent Soundtrack|I truly like this...|    2|\n",
      "|Remember, Pull Yo...|If you've played ...|    2|\n",
      "|an absolute maste...|I am quite sure a...|    2|\n",
      "|        Buyer beware|This is a self-pu...|    1|\n",
      "|      Glorious story|I loved Whisper o...|    2|\n",
      "|    A FIVE STAR BOOK|I just finished r...|    2|\n",
      "|Whispers of the W...|This was a easy t...|    2|\n",
      "|          The Worst!|A complete waste ...|    1|\n",
      "|          Great book|This was a great ...|    2|\n",
      "|          Great Read|I thought this bo...|    2|\n",
      "|           Oh please|I guess you have ...|    1|\n",
      "|Awful beyond belief!|I feel I have to ...|    1|\n",
      "|Don't try to fool...|It's glaringly ob...|    1|\n",
      "|A romantic zen ba...|When you hear fol...|    2|\n",
      "|Fashionable Compr...|After I had a DVT...|    2|\n",
      "|Jobst UltraSheer ...|Excellent product...|    2|\n",
      "|sizes recomended ...|sizes are much sm...|    1|\n",
      "+--------------------+--------------------+-----+\n",
      "only showing top 20 rows\n",
      "\n"
     ]
    },
    {
     "ename": "KeyboardInterrupt",
     "evalue": "",
     "output_type": "error",
     "traceback": [
      "\u001b[0;31m---------------------------------------------------------------------------\u001b[0m",
      "\u001b[0;31mKeyboardInterrupt\u001b[0m                         Traceback (most recent call last)",
      "\u001b[0;32m<ipython-input-86-ccfb9d127c8a>\u001b[0m in \u001b[0;36m<module>\u001b[0;34m\u001b[0m\n\u001b[1;32m     34\u001b[0m \u001b[0mtest_data\u001b[0m \u001b[0;34m=\u001b[0m \u001b[0mreadandConverttoDF\u001b[0m\u001b[0;34m(\u001b[0m\u001b[0;34m\"./data/test.ft.txt\"\u001b[0m\u001b[0;34m)\u001b[0m\u001b[0;34m\u001b[0m\u001b[0;34m\u001b[0m\u001b[0m\n\u001b[1;32m     35\u001b[0m \u001b[0mtrain_data\u001b[0m\u001b[0;34m.\u001b[0m\u001b[0mshow\u001b[0m\u001b[0;34m(\u001b[0m\u001b[0;34m)\u001b[0m\u001b[0;34m\u001b[0m\u001b[0;34m\u001b[0m\u001b[0m\n\u001b[0;32m---> 36\u001b[0;31m \u001b[0mprint\u001b[0m\u001b[0;34m(\u001b[0m\u001b[0;34m\"Total train data:\"\u001b[0m\u001b[0;34m,\u001b[0m \u001b[0mtrain_data\u001b[0m\u001b[0;34m.\u001b[0m\u001b[0mcount\u001b[0m\u001b[0;34m(\u001b[0m\u001b[0;34m)\u001b[0m\u001b[0;34m)\u001b[0m\u001b[0;34m\u001b[0m\u001b[0;34m\u001b[0m\u001b[0m\n\u001b[0m\u001b[1;32m     37\u001b[0m \u001b[0mprint\u001b[0m\u001b[0;34m(\u001b[0m\u001b[0;34m\"Total train data with positive class:\"\u001b[0m\u001b[0;34m,\u001b[0m \u001b[0mtrain_data\u001b[0m\u001b[0;34m.\u001b[0m\u001b[0mfilter\u001b[0m\u001b[0;34m(\u001b[0m\u001b[0mcol\u001b[0m\u001b[0;34m(\u001b[0m\u001b[0;34m'label'\u001b[0m\u001b[0;34m)\u001b[0m \u001b[0;34m==\u001b[0m \u001b[0;36m2\u001b[0m\u001b[0;34m)\u001b[0m\u001b[0;34m.\u001b[0m\u001b[0mcount\u001b[0m\u001b[0;34m(\u001b[0m\u001b[0;34m)\u001b[0m\u001b[0;34m)\u001b[0m\u001b[0;34m\u001b[0m\u001b[0;34m\u001b[0m\u001b[0m\n\u001b[1;32m     38\u001b[0m \u001b[0mprint\u001b[0m\u001b[0;34m(\u001b[0m\u001b[0;34m\"Total train data with negative class:\"\u001b[0m\u001b[0;34m,\u001b[0m \u001b[0mtrain_data\u001b[0m\u001b[0;34m.\u001b[0m\u001b[0mfilter\u001b[0m\u001b[0;34m(\u001b[0m\u001b[0mcol\u001b[0m\u001b[0;34m(\u001b[0m\u001b[0;34m'label'\u001b[0m\u001b[0;34m)\u001b[0m \u001b[0;34m==\u001b[0m \u001b[0;36m1\u001b[0m\u001b[0;34m)\u001b[0m\u001b[0;34m.\u001b[0m\u001b[0mcount\u001b[0m\u001b[0;34m(\u001b[0m\u001b[0;34m)\u001b[0m\u001b[0;34m)\u001b[0m\u001b[0;34m\u001b[0m\u001b[0;34m\u001b[0m\u001b[0m\n",
      "\u001b[0;32m~/spark-2.4.5-bin-hadoop2.7/python/pyspark/sql/dataframe.py\u001b[0m in \u001b[0;36mcount\u001b[0;34m(self)\u001b[0m\n\u001b[1;32m    521\u001b[0m         \u001b[0;36m2\u001b[0m\u001b[0;34m\u001b[0m\u001b[0;34m\u001b[0m\u001b[0m\n\u001b[1;32m    522\u001b[0m         \"\"\"\n\u001b[0;32m--> 523\u001b[0;31m         \u001b[0;32mreturn\u001b[0m \u001b[0mint\u001b[0m\u001b[0;34m(\u001b[0m\u001b[0mself\u001b[0m\u001b[0;34m.\u001b[0m\u001b[0m_jdf\u001b[0m\u001b[0;34m.\u001b[0m\u001b[0mcount\u001b[0m\u001b[0;34m(\u001b[0m\u001b[0;34m)\u001b[0m\u001b[0;34m)\u001b[0m\u001b[0;34m\u001b[0m\u001b[0;34m\u001b[0m\u001b[0m\n\u001b[0m\u001b[1;32m    524\u001b[0m \u001b[0;34m\u001b[0m\u001b[0m\n\u001b[1;32m    525\u001b[0m     \u001b[0;34m@\u001b[0m\u001b[0mignore_unicode_prefix\u001b[0m\u001b[0;34m\u001b[0m\u001b[0;34m\u001b[0m\u001b[0m\n",
      "\u001b[0;32m~/spark-2.4.5-bin-hadoop2.7/python/lib/py4j-0.10.7-src.zip/py4j/java_gateway.py\u001b[0m in \u001b[0;36m__call__\u001b[0;34m(self, *args)\u001b[0m\n\u001b[1;32m   1253\u001b[0m             \u001b[0mproto\u001b[0m\u001b[0;34m.\u001b[0m\u001b[0mEND_COMMAND_PART\u001b[0m\u001b[0;34m\u001b[0m\u001b[0;34m\u001b[0m\u001b[0m\n\u001b[1;32m   1254\u001b[0m \u001b[0;34m\u001b[0m\u001b[0m\n\u001b[0;32m-> 1255\u001b[0;31m         \u001b[0manswer\u001b[0m \u001b[0;34m=\u001b[0m \u001b[0mself\u001b[0m\u001b[0;34m.\u001b[0m\u001b[0mgateway_client\u001b[0m\u001b[0;34m.\u001b[0m\u001b[0msend_command\u001b[0m\u001b[0;34m(\u001b[0m\u001b[0mcommand\u001b[0m\u001b[0;34m)\u001b[0m\u001b[0;34m\u001b[0m\u001b[0;34m\u001b[0m\u001b[0m\n\u001b[0m\u001b[1;32m   1256\u001b[0m         return_value = get_return_value(\n\u001b[1;32m   1257\u001b[0m             answer, self.gateway_client, self.target_id, self.name)\n",
      "\u001b[0;32m~/spark-2.4.5-bin-hadoop2.7/python/lib/py4j-0.10.7-src.zip/py4j/java_gateway.py\u001b[0m in \u001b[0;36msend_command\u001b[0;34m(self, command, retry, binary)\u001b[0m\n\u001b[1;32m    983\u001b[0m         \u001b[0mconnection\u001b[0m \u001b[0;34m=\u001b[0m \u001b[0mself\u001b[0m\u001b[0;34m.\u001b[0m\u001b[0m_get_connection\u001b[0m\u001b[0;34m(\u001b[0m\u001b[0;34m)\u001b[0m\u001b[0;34m\u001b[0m\u001b[0;34m\u001b[0m\u001b[0m\n\u001b[1;32m    984\u001b[0m         \u001b[0;32mtry\u001b[0m\u001b[0;34m:\u001b[0m\u001b[0;34m\u001b[0m\u001b[0;34m\u001b[0m\u001b[0m\n\u001b[0;32m--> 985\u001b[0;31m             \u001b[0mresponse\u001b[0m \u001b[0;34m=\u001b[0m \u001b[0mconnection\u001b[0m\u001b[0;34m.\u001b[0m\u001b[0msend_command\u001b[0m\u001b[0;34m(\u001b[0m\u001b[0mcommand\u001b[0m\u001b[0;34m)\u001b[0m\u001b[0;34m\u001b[0m\u001b[0;34m\u001b[0m\u001b[0m\n\u001b[0m\u001b[1;32m    986\u001b[0m             \u001b[0;32mif\u001b[0m \u001b[0mbinary\u001b[0m\u001b[0;34m:\u001b[0m\u001b[0;34m\u001b[0m\u001b[0;34m\u001b[0m\u001b[0m\n\u001b[1;32m    987\u001b[0m                 \u001b[0;32mreturn\u001b[0m \u001b[0mresponse\u001b[0m\u001b[0;34m,\u001b[0m \u001b[0mself\u001b[0m\u001b[0;34m.\u001b[0m\u001b[0m_create_connection_guard\u001b[0m\u001b[0;34m(\u001b[0m\u001b[0mconnection\u001b[0m\u001b[0;34m)\u001b[0m\u001b[0;34m\u001b[0m\u001b[0;34m\u001b[0m\u001b[0m\n",
      "\u001b[0;32m~/spark-2.4.5-bin-hadoop2.7/python/lib/py4j-0.10.7-src.zip/py4j/java_gateway.py\u001b[0m in \u001b[0;36msend_command\u001b[0;34m(self, command)\u001b[0m\n\u001b[1;32m   1150\u001b[0m \u001b[0;34m\u001b[0m\u001b[0m\n\u001b[1;32m   1151\u001b[0m         \u001b[0;32mtry\u001b[0m\u001b[0;34m:\u001b[0m\u001b[0;34m\u001b[0m\u001b[0;34m\u001b[0m\u001b[0m\n\u001b[0;32m-> 1152\u001b[0;31m             \u001b[0manswer\u001b[0m \u001b[0;34m=\u001b[0m \u001b[0msmart_decode\u001b[0m\u001b[0;34m(\u001b[0m\u001b[0mself\u001b[0m\u001b[0;34m.\u001b[0m\u001b[0mstream\u001b[0m\u001b[0;34m.\u001b[0m\u001b[0mreadline\u001b[0m\u001b[0;34m(\u001b[0m\u001b[0;34m)\u001b[0m\u001b[0;34m[\u001b[0m\u001b[0;34m:\u001b[0m\u001b[0;34m-\u001b[0m\u001b[0;36m1\u001b[0m\u001b[0;34m]\u001b[0m\u001b[0;34m)\u001b[0m\u001b[0;34m\u001b[0m\u001b[0;34m\u001b[0m\u001b[0m\n\u001b[0m\u001b[1;32m   1153\u001b[0m             \u001b[0mlogger\u001b[0m\u001b[0;34m.\u001b[0m\u001b[0mdebug\u001b[0m\u001b[0;34m(\u001b[0m\u001b[0;34m\"Answer received: {0}\"\u001b[0m\u001b[0;34m.\u001b[0m\u001b[0mformat\u001b[0m\u001b[0;34m(\u001b[0m\u001b[0manswer\u001b[0m\u001b[0;34m)\u001b[0m\u001b[0;34m)\u001b[0m\u001b[0;34m\u001b[0m\u001b[0;34m\u001b[0m\u001b[0m\n\u001b[1;32m   1154\u001b[0m             \u001b[0;32mif\u001b[0m \u001b[0manswer\u001b[0m\u001b[0;34m.\u001b[0m\u001b[0mstartswith\u001b[0m\u001b[0;34m(\u001b[0m\u001b[0mproto\u001b[0m\u001b[0;34m.\u001b[0m\u001b[0mRETURN_MESSAGE\u001b[0m\u001b[0;34m)\u001b[0m\u001b[0;34m:\u001b[0m\u001b[0;34m\u001b[0m\u001b[0;34m\u001b[0m\u001b[0m\n",
      "\u001b[0;32m~/anaconda3/lib/python3.7/socket.py\u001b[0m in \u001b[0;36mreadinto\u001b[0;34m(self, b)\u001b[0m\n\u001b[1;32m    587\u001b[0m         \u001b[0;32mwhile\u001b[0m \u001b[0;32mTrue\u001b[0m\u001b[0;34m:\u001b[0m\u001b[0;34m\u001b[0m\u001b[0;34m\u001b[0m\u001b[0m\n\u001b[1;32m    588\u001b[0m             \u001b[0;32mtry\u001b[0m\u001b[0;34m:\u001b[0m\u001b[0;34m\u001b[0m\u001b[0;34m\u001b[0m\u001b[0m\n\u001b[0;32m--> 589\u001b[0;31m                 \u001b[0;32mreturn\u001b[0m \u001b[0mself\u001b[0m\u001b[0;34m.\u001b[0m\u001b[0m_sock\u001b[0m\u001b[0;34m.\u001b[0m\u001b[0mrecv_into\u001b[0m\u001b[0;34m(\u001b[0m\u001b[0mb\u001b[0m\u001b[0;34m)\u001b[0m\u001b[0;34m\u001b[0m\u001b[0;34m\u001b[0m\u001b[0m\n\u001b[0m\u001b[1;32m    590\u001b[0m             \u001b[0;32mexcept\u001b[0m \u001b[0mtimeout\u001b[0m\u001b[0;34m:\u001b[0m\u001b[0;34m\u001b[0m\u001b[0;34m\u001b[0m\u001b[0m\n\u001b[1;32m    591\u001b[0m                 \u001b[0mself\u001b[0m\u001b[0;34m.\u001b[0m\u001b[0m_timeout_occurred\u001b[0m \u001b[0;34m=\u001b[0m \u001b[0;32mTrue\u001b[0m\u001b[0;34m\u001b[0m\u001b[0;34m\u001b[0m\u001b[0m\n",
      "\u001b[0;31mKeyboardInterrupt\u001b[0m: "
     ]
    }
   ],
   "source": [
    "from pyspark.sql import SparkSession\n",
    "from pyspark.sql.types import *\n",
    "from pyspark.sql.functions import *\n",
    "from pyspark.ml.feature import Tokenizer, StopWordsRemover, CountVectorizer, IDF, StringIndexer\n",
    "from pyspark.ml import Pipeline\n",
    "import re\n",
    "from pyspark_dist_explore import hist\n",
    "import matplotlib.pyplot as plt\n",
    "\n",
    "spark = SparkSession \\\n",
    "    .builder \\\n",
    "    .appName(\"dataframe-spark\") \\\n",
    "    .config(\"spark.some.config.option\", \"some-value\") \\\n",
    "    .getOrCreate()\n",
    "\n",
    "def mapper(line):\n",
    "    line = re.split(\"(__label__[0-9] )\", line)\n",
    "    line[2] = re.split(\":\", line[2])\n",
    "    return [int(line[1][-2]), line[2][0], line[2][1][1:]]\n",
    "\n",
    "def readandConverttoDF(path):\n",
    "    fields = StructType([\n",
    "                StructField(\"label\", IntegerType(), True), \n",
    "                StructField(\"title\", StringType(), True),\n",
    "                StructField(\"text\", StringType(), True),\n",
    "            ])\n",
    "    df = sc.textFile(path) \\\n",
    "        .map(lambda line: mapper(line)) \\\n",
    "        .toDF(schema=fields) \\\n",
    "        .select(\"title\", \"text\", \"label\")\n",
    "    return df\n",
    "\n",
    "train_data = readandConverttoDF(\"./data/train.ft.txt\")\n",
    "test_data = readandConverttoDF(\"./data/test.ft.txt\")\n",
    "\n",
    "# Beware, these prints take approximately 10 minutes in total. You can stop the execution here if you want to examine other cells\n",
    "train_data.show()\n",
    "print(\"Total train data:\", train_data.count())\n",
    "print(\"Total train data with positive class:\", train_data.filter(col('label') == 2).count())\n",
    "print(\"Total train data with negative class:\", train_data.filter(col('label') == 1).count())\n",
    "test_data.show()\n",
    "print(\"Total test data:\", test_data.count())\n",
    "print(\"Total test data with positive class:\", test_data.filter(col('label') == 2).count())\n",
    "print(\"Total test data with negative class:\", test_data.filter(col('label') == 1).count())"
   ]
  },
  {
   "cell_type": "markdown",
   "metadata": {},
   "source": [
    "# Exploratory Data Analysis"
   ]
  },
  {
   "cell_type": "markdown",
   "metadata": {},
   "source": [
    "## 1. Checking Null Values"
   ]
  },
  {
   "cell_type": "code",
   "execution_count": 60,
   "metadata": {},
   "outputs": [],
   "source": [
    "# Beware, these checks take approximately 10 minutes in total.\n",
    "# But must be addressed because the paper said that there were 2 null reviews, but couldn't be found here.\n",
    "train_data.where(col(\"text\").isNull()).show()"
   ]
  },
  {
   "cell_type": "code",
   "execution_count": 61,
   "metadata": {},
   "outputs": [],
   "source": [
    "train_data.where(col(\"label\").isNull()).show()"
   ]
  },
  {
   "cell_type": "code",
   "execution_count": 62,
   "metadata": {},
   "outputs": [
    {
     "name": "stdout",
     "output_type": "stream",
     "text": [
      "+-----+----+-----+\n",
      "|title|text|label|\n",
      "+-----+----+-----+\n",
      "+-----+----+-----+\n",
      "\n"
     ]
    }
   ],
   "source": [
    "test_data.where(col(\"text\").isNull()).show()"
   ]
  },
  {
   "cell_type": "code",
   "execution_count": 63,
   "metadata": {},
   "outputs": [
    {
     "name": "stdout",
     "output_type": "stream",
     "text": [
      "+-----+----+-----+\n",
      "|title|text|label|\n",
      "+-----+----+-----+\n",
      "+-----+----+-----+\n",
      "\n"
     ]
    }
   ],
   "source": [
    "test_data.where(col(\"label\").isNull()).show()"
   ]
  },
  {
   "cell_type": "markdown",
   "metadata": {},
   "source": [
    "## 2. Word Count and Length Text"
   ]
  },
  {
   "cell_type": "code",
   "execution_count": 64,
   "metadata": {},
   "outputs": [
    {
     "name": "stdout",
     "output_type": "stream",
     "text": [
      "+--------------------+--------------------+-----+---------+----------+\n",
      "|               title|                text|label|wordCount|textLength|\n",
      "+--------------------+--------------------+-----+---------+----------+\n",
      "|Stuning even for ...|This sound track ...|    2|       75|       394|\n",
      "|The best soundtra...|I'm reading a lot...|    2|       91|       470|\n",
      "|            Amazing!|This soundtrack i...|    2|      128|       750|\n",
      "|Excellent Soundtrack|I truly like this...|    2|       56|       318|\n",
      "|Remember, Pull Yo...|If you've played ...|    2|       33|       174|\n",
      "|an absolute maste...|I am quite sure a...|    2|      139|       800|\n",
      "|        Buyer beware|This is a self-pu...|    1|      137|       724|\n",
      "|      Glorious story|I loved Whisper o...|    2|      103|       506|\n",
      "|    A FIVE STAR BOOK|I just finished r...|    2|       99|       506|\n",
      "|Whispers of the W...|This was a easy t...|    2|       58|       270|\n",
      "|          The Worst!|A complete waste ...|    1|       33|       204|\n",
      "|          Great book|This was a great ...|    2|       94|       458|\n",
      "|          Great Read|I thought this bo...|    2|       57|       284|\n",
      "|           Oh please|I guess you have ...|    1|       91|       481|\n",
      "|Awful beyond belief!|I feel I have to ...|    1|      129|       670|\n",
      "|Don't try to fool...|It's glaringly ob...|    1|       45|       263|\n",
      "|A romantic zen ba...|When you hear fol...|    2|      113|       655|\n",
      "|Fashionable Compr...|After I had a DVT...|    2|      112|       622|\n",
      "|Jobst UltraSheer ...|Excellent product...|    2|       68|       342|\n",
      "|sizes recomended ...|sizes are much sm...|    1|       40|       192|\n",
      "+--------------------+--------------------+-----+---------+----------+\n",
      "only showing top 20 rows\n",
      "\n",
      "+--------------------+--------------------+-----+---------+----------+\n",
      "|               title|                text|label|wordCount|textLength|\n",
      "+--------------------+--------------------+-----+---------+----------+\n",
      "|            Great CD|My lovely Pat has...|    2|      104|       523|\n",
      "|One of the best g...|Despite the fact ...|    2|      133|       742|\n",
      "|Batteries died wi...|I bought this cha...|    1|       54|       301|\n",
      "|works fine, but M...|Check out Maha En...|    2|       30|       190|\n",
      "|Great for the non...|Reviewed quite a ...|    2|       65|       382|\n",
      "|DVD Player crappe...|I also began havi...|    1|       66|       341|\n",
      "|      Incorrect Disc|I love the style ...|    1|       78|       392|\n",
      "|DVD menu select p...|I cannot scroll t...|    1|       38|       227|\n",
      "|Unique Weird Orie...|Exotic tales of t...|    2|       56|       321|\n",
      "|Not an \"ultimate ...|Firstly,I enjoyed...|    1|      144|       856|\n",
      "|Great book for tr...|I currently live ...|    2|       35|       185|\n",
      "|                Not!|If you want to li...|    1|       29|       142|\n",
      "|     A complete Bust|This game require...|    1|      139|       802|\n",
      "|TRULY MADE A DIFF...|I have been using...|    2|      110|       547|\n",
      "|didn't run off of...|Was hoping that t...|    1|       20|       101|\n",
      "|          Don't buy!|First of all, the...|    1|      140|       716|\n",
      "|Simple, Durable, ...|This is an AWESOM...|    2|      105|       570|\n",
      "|Review of Kelly C...|For the price of ...|    2|       58|       310|\n",
      "|SOY UN APASIONADO...|Y ESTE LIBRO ESTÁ...|    2|       37|       213|\n",
      "|Some of the best ...|This is an excell...|    2|       30|       157|\n",
      "+--------------------+--------------------+-----+---------+----------+\n",
      "only showing top 20 rows\n",
      "\n"
     ]
    }
   ],
   "source": [
    "data_train = train_data.withColumn('wordCount', size(split(col('text'), ' '))).withColumn('textLength', length(col('text')))\n",
    "data_test = test_data.withColumn('wordCount', size(split(col('text'), ' '))).withColumn('textLength', length(col('text')))\n",
    "data_train.show()\n",
    "data_test.show()"
   ]
  },
  {
   "cell_type": "code",
   "execution_count": 53,
   "metadata": {},
   "outputs": [
    {
     "data": {
      "text/plain": [
       "(array([ 19040.,  12960.,   7947.,  11260.,  52590., 116220., 112776.,\n",
       "         99422.,  91237.,  84665.,  83479.,  75379.,  71658.,  69049.,\n",
       "         65747.,  65232.,  59484.,  56366.,  53434.,  50530.,  50914.,\n",
       "         45635.,  43161.,  41419.,  39183.,  39602.,  35511.,  34016.,\n",
       "         31646.,  30014.,  30236.,  26678.,  25664.,  24296.,  22779.,\n",
       "         22983.,  20469.,  19309.,  18553.,  17635.,  17220.,  16035.,\n",
       "         15201.,  14119.,  13761.,  13674.,  12273.,  10869.,   7081.,\n",
       "          1589.]),\n",
       " array([   0. ,   20.2,   40.4,   60.6,   80.8,  101. ,  121.2,  141.4,\n",
       "         161.6,  181.8,  202. ,  222.2,  242.4,  262.6,  282.8,  303. ,\n",
       "         323.2,  343.4,  363.6,  383.8,  404. ,  424.2,  444.4,  464.6,\n",
       "         484.8,  505. ,  525.2,  545.4,  565.6,  585.8,  606. ,  626.2,\n",
       "         646.4,  666.6,  686.8,  707. ,  727.2,  747.4,  767.6,  787.8,\n",
       "         808. ,  828.2,  848.4,  868.6,  888.8,  909. ,  929.2,  949.4,\n",
       "         969.6,  989.8, 1010. ]),\n",
       " <a list of 50 Patch objects>)"
      ]
     },
     "execution_count": 53,
     "metadata": {},
     "output_type": "execute_result"
    },
    {
     "data": {
      "image/png": "[encoded data removed]",
      "text/plain": [
       "<Figure size 1440x1440 with 4 Axes>"
      ]
     },
     "metadata": {
      "needs_background": "light"
     },
     "output_type": "display_data"
    }
   ],
   "source": [
    "data = data_train.union(data_test)\n",
    "data_positive = data.filter(col('label') == 2)\n",
    "data_negative = data.filter(col('label') == 1)\n",
    "fig, ax = plt.subplots(nrows=2, ncols=2)\n",
    "fig.set_size_inches(20, 20)\n",
    "\n",
    "# Beware, these histograms take approximately 15 minutes in total\n",
    "hist(ax[0,0], data_negative.select(\"wordCount\").alias(\"wordCountNegativeClass\"), bins = 50)\n",
    "hist(ax[0,1], data_positive.select(\"wordCount\").alias(\"wordCountPositiveClass\"), bins = 50)\n",
    "hist(ax[1,0], data_negative.select(\"textLength\").alias(\"textLengthNegativeClass\"), bins = 50)\n",
    "hist(ax[1,1], data_positive.select(\"textLength\").alias(\"textLengthPositiveClass\"), bins = 50)"
   ]
  },
  {
   "cell_type": "markdown",
   "metadata": {},
   "source": [
    "# Data Preprocessing"
   ]
  },
  {
   "cell_type": "markdown",
   "metadata": {},
   "source": [
    "## 1. Noise Removal"
   ]
  },
  {
   "cell_type": "code",
   "execution_count": 87,
   "metadata": {},
   "outputs": [
    {
     "name": "stdout",
     "output_type": "stream",
     "text": [
      "+---------------------------------------------------------------------------------------------------------------------------------------------------------------------------------------------------------------------------------------------------------------------------------------------------------------------------------------------------------------------------------------------------------------------------------------------------------------------------------------------------------------------------------------------------------------------------------------------------------------------------------------------------------------------------------------------------------------------------------------------------------------------------------------------+-----+\n",
      "|noiseRemoval                                                                                                                                                                                                                                                                                                                                                                                                                                                                                                                                                                                                                                                                                                                                                                                 |label|\n",
      "+---------------------------------------------------------------------------------------------------------------------------------------------------------------------------------------------------------------------------------------------------------------------------------------------------------------------------------------------------------------------------------------------------------------------------------------------------------------------------------------------------------------------------------------------------------------------------------------------------------------------------------------------------------------------------------------------------------------------------------------------------------------------------------------------+-----+\n",
      "|This sound track was beautiful It paints the senery in your mind so well I would recomend it even to people who hate vid game music I have played the game Chrono Cross but out of all of the games I have ever played it has the best music It backs away from crude keyboarding and takes a fresher step with grate guitars and soulful orchestras It would impress anyone who cares to listen                                                                                                                                                                                                                                                                                                                                                                                             |2    |\n",
      "|Im reading a lot of reviews saying that this is the best game soundtrack and I figured that Id write a review to disagree a bit This in my opinino is Yasunori Mitsudas ultimate masterpiece The music is timeless and Im been listening to it for years now and its beauty simply refuses to fadeThe price tag on this is pretty staggering I must say but if you are going to buy any cd for this much money this is the only one that I feel would be worth every penny                                                                                                                                                                                                                                                                                                                   |2    |\n",
      "|This soundtrack is my favorite music of all time hands down The intense sadness of Prisoners of Fate which means all the more if youve played the game and the hope in A Distant Promise and Girl who Stole the Star have been an important inspiration to me personally throughout my teen years The higher energy tracks like Chrono Cross  Times Scar Time of the Dreamwatch and Chronomantique indefinably remeniscent of Chrono Trigger are all absolutely superb as wellThis soundtrack is amazing music probably the best of this composers work I havent heard the Xenogears soundtrack so I cant say for sure and even if youve never played the game it would be worth twice the price to buy itI wish I could give it  stars                                                      |2    |\n",
      "|I truly like this soundtrack and I enjoy video game music I have played this game and most of the music on here I enjoy and its truly relaxing and peacefulOn disk one my favorites are Scars Of Time Between Life and Death Forest Of Illusion Fortress of Ancient Dragons Lost Fragment and Drowned ValleyDisk Two                                                                                                                                                                                                                                                                                                                                                                                                                                                                         |2    |\n",
      "|If youve played the game you know how divine the music is Every single song tells a story of the game its that good The greatest songs are without a doubt Chrono Cross                                                                                                                                                                                                                                                                                                                                                                                                                                                                                                                                                                                                                      |2    |\n",
      "|I am quite sure any of you actually taking the time to read this have played the game at least once and heard at least a few of the tracks here And whether you were aware of it or not Mitsudas music contributed greatly to the mood of every single minute of the whole gameComposed of  CDs and quite a few songs I havent an exact count all of which are heartrendering and impressively remarkable this soundtrack is one I assure you you will not forget It has everything for every listener  from fastpaced and energetic Dancing the Tokage or Termina Home to slower and more haunting Dragon God to purely beautifully composed Times Scar to even some fantastic vocals Radical DreamersThis is one of the best videogame soundtracks out there and surely Mitsudas best ever |2    |\n",
      "|This is a selfpublished book and if you want to know whyread a few paragraphs Those  star reviews must have been written by Ms Haddons family and friendsor perhaps by herself I cant imagine anyone reading the whole thingI spent an evening with the book and a friend and we were in hysterics reading bits and pieces of it to one another It is most definitely bad enough to be entered into some kind of a worst book contest I cant believe Amazon even sells this kind of thing Maybe I can offer them my th grade term paper on To Kill a Mockingbirda book I am quite sure Ms Haddon never heard of Anyway unless you are in a mood to send a book to someone as a jokestay far far away from this one                                                                           |1    |\n",
      "|I loved Whisper of the wicked saints The story was amazing and I was pleasantly surprised at the changes in the book I am not normaly someone who is into romance novels but the world was raving about this book and so I bought it I loved it  This is a brilliant story because it is so true This book was so wonderful that I have told all of my friends to read it It is not a typical romance it is so much more Not reading this book is a crime becuase you are missing out on a heart warming story                                                                                                                                                                                                                                                                               |2    |\n",
      "|I just finished reading Whisper of the Wicked saints I fell in love with the caracters I expected an average romance read but instead I found one of my favorite books of all time Just when I thought I could predict the outcome I was shocked  The writting was so descriptive that my heart broke when Julias did and I felt as if I was there with them instead of just a distant reader If you are a lover of romance novels then this is a must read Dont let the cover fool you this book is spectacular                                                                                                                                                                                                                                                                             |2    |\n",
      "|This was a easy to read book that made me want to keep reading on and on not easy to put downIt left me wanting to read the follow on which I hope is coming soon I used to read a lot but have gotten away from it This book made me want to read again Very enjoyable                                                                                                                                                                                                                                                                                                                                                                                                                                                                                                                      |2    |\n",
      "|A complete waste of time Typographical errors poor grammar and a totally pathetic plot add up to absolutely nothing Im embarrassed for this author and very disappointed I actually paid for this book                                                                                                                                                                                                                                                                                                                                                                                                                                                                                                                                                                                       |1    |\n",
      "|This was a great bookI just could not put it downand could not read it fast enough Boy what a book the twist and turns in this just keeps you guessing and wanting to know what is going to happen next This book makes you fall in love and can heat you upit can also make you so angery this book can make you go throu several of your emotions This is a quick read romance It is something that you will want to end your day off with if you read at night                                                                                                                                                                                                                                                                                                                            |2    |\n",
      "|I thought this book was brilliant but yet realistic It showed me that to error is human I loved the fact that this writer showed the loving side of God and not the revengeful side of him I loved how it twisted and turned and I could not put it down I also loved The glass castle                                                                                                                                                                                                                                                                                                                                                                                                                                                                                                       |2    |\n",
      "|I guess you have to be a romance novel lover for this one and not a very discerning one All others beware It is absolute drivel I figured I was in trouble when a typo is prominently featured on the back cover but the first page of the book removed all doubt Wait  maybe Im missing the point A quick reread of the beginning now makes it clear This has to be an intentional churning of overheated prose for satiric purposes Phew so glad I didnt waste  after all                                                                                                                                                                                                                                                                                                                  |1    |\n",
      "|I feel I have to write to keep others from wasting their money This book seems to have been written by a th grader with poor grammatical skills for her age As another reviewer points out there is a misspelling on the cover and I believe there is at least one per chapter For example it was mentioned twice that she had a lean on her house I was so distracted by the poor writing and weak plot that I decided to read with a pencil in hand to mark all of the horrible grammar and spelling Please dont waste your money I too believe that the good reviews must have been written by the authors relatives I will not put much faith in the reviews from now on                                                                                                                 |1    |\n",
      "|Its glaringly obvious that all of the glowing reviews have been written by the same person perhaps the author herself They all have the same misspellings and poor sentence structure that is featured in the book Who made Veronica Haddon think she is an author                                                                                                                                                                                                                                                                                                                                                                                                                                                                                                                           |1    |\n",
      "|When you hear folks say that they dont make em like that anymore they might be talking about BY THE SEA This is a very cool story about a young Cuban girl searching for idenity who stumbles into a coastal resort kitchen gig with a zen motorcycle maintenance man three hysterical Italian chefs and a Latino fireballing right handed pitcher who plays on the team sponsored by the resorts owner As is often the case she finds herself through honest often comical but always emotional interaction with this sizzling roster of players With the perfect mix of special effects that salsa sound and flashbacks BY THE SEA gets  BIG stars from me                                                                                                                                 |2    |\n",
      "|After I had a DVT my doctor required me to wear compression stockings I wore ugly white TED hose and yucky thick brown stockings Then I found Jobst UltraSheer They gave me the compression I needed  but looked like regular pantyhose Even though my blood clot has been gone for  years I still buy these to wear as support stockings because they make my legs feel so niceNote I have problems with the rubberized tops rolling down my thigh I tried the Jobst adhesive but I hated having my skin pulled all day I bought an inexpensive garter belt and it works fine and helps keep the stockings from rolling                                                                                                                                                                     |2    |\n",
      "|Excellent product However they are very difficult to get on for older people I feel like Ive had a full day workout after getting them on Also as the day wears on they begin to roll down from the top and create a very deep ridge in the skin I have to wear them so if those two difficulties could be addressed it would be such a help                                                                                                                                                                                                                                                                                                                                                                                                                                                 |2    |\n",
      "|sizes are much smaller than what is recomended in the chart I tried to put it and sheer it I guess you should not buy this item in the internetit is better to go to the store and check it                                                                                                                                                                                                                                                                                                                                                                                                                                                                                                                                                                                                  |1    |\n",
      "+---------------------------------------------------------------------------------------------------------------------------------------------------------------------------------------------------------------------------------------------------------------------------------------------------------------------------------------------------------------------------------------------------------------------------------------------------------------------------------------------------------------------------------------------------------------------------------------------------------------------------------------------------------------------------------------------------------------------------------------------------------------------------------------------+-----+\n",
      "only showing top 20 rows\n",
      "\n"
     ]
    },
    {
     "name": "stdout",
     "output_type": "stream",
     "text": [
      "+-------------------------------------------------------------------------------------------------------------------------------------------------------------------------------------------------------------------------------------------------------------------------------------------------------------------------------------------------------------------------------------------------------------------------------------------------------------------------------------------------------------------------------------------------------------------------------------------------------------------------------------------------------------------------------------------------------------------------------------------------------------------------------------------------------------------------------------------------------------------+-----+\n",
      "|noiseRemoval                                                                                                                                                                                                                                                                                                                                                                                                                                                                                                                                                                                                                                                                                                                                                                                                                                                       |label|\n",
      "+-------------------------------------------------------------------------------------------------------------------------------------------------------------------------------------------------------------------------------------------------------------------------------------------------------------------------------------------------------------------------------------------------------------------------------------------------------------------------------------------------------------------------------------------------------------------------------------------------------------------------------------------------------------------------------------------------------------------------------------------------------------------------------------------------------------------------------------------------------------------+-----+\n",
      "|My lovely Pat has one of the GREAT voices of her generation I have listened to this CD for YEARS and I still LOVE IT When Im in a good mood it makes me feel better A bad mood just evaporates like sugar in the rain This CD just oozes LIFE Vocals are jusat STUUNNING and lyrics just kill One of lifes hidden gems This is a desert isle CD in my book Why she never made it big is just beyond me Everytime I play this no matter black white young old male female EVERYBODY says one thing Who was that singing                                                                                                                                                                                                                                                                                                                                             |2    |\n",
      "|Despite the fact that I have only played a small portion of the game the music I heard plus the connection to Chrono Trigger which was great as well led me to purchase the soundtrack and it remains one of my favorite albums There is an incredible mix of fun epic and emotional songs Those sad and beautiful tracks I especially like as theres not too many of those kinds of songs in my other video game soundtracks I must admit that one of the songs LifeA Distant Promise has brought tears to my eyes on many occasionsMy one complaint about this soundtrack is that they use guitar fretting effects in many of the songs which I find distracting But even if those werent included I would still consider the collection worth it                                                                                                                |2    |\n",
      "|I bought this charger in Jul  and it worked OK for a while The design is nice and convenient However after about a year the batteries would not hold a charge Might as well just get alkaline disposables or look elsewhere for a charger that comes with batteries that have better staying power                                                                                                                                                                                                                                                                                                                                                                                                                                                                                                                                                                 |1    |\n",
      "|Check out Maha Energys website Their Powerex MHCF charger works in  minutes for rapid charge with option for slower charge better for batteries And they have  mAh batteries                                                                                                                                                                                                                                                                                                                                                                                                                                                                                                                                                                                                                                                                                       |2    |\n",
      "|Reviewed quite a bit of the combo players and was hesitant due to unfavorable reviews and size of machines I am weaning off my VHS collection but dont want to replace them with DVDs This unit is well built easy to setup and resolution and special effects no progressive scan for HDTV owners suitable for many people looking for a versatile productCons No universal remote                                                                                                                                                                                                                                                                                                                                                                                                                                                                                |2    |\n",
      "|I also began having the incorrect disc problems that Ive read about on here The VCR still works but hte DVD side is useless I understand that DVD players sometimes just quit on you but after not even one year To me thats a sign on bad quality Im giving up JVC after this as well Im sticking to Sony or giving another brand a shot                                                                                                                                                                                                                                                                                                                                                                                                                                                                                                                          |1    |\n",
      "|I love the style of this but after a couple years the DVD is giving me problems It doesnt even work anymore and I use my broken PS Now I wouldnt recommend this Im just going to upgrade to a recorder now I wish it would work but I guess im giving up on JVC I really did like this one before it stopped working The dvd player gave me problems probably after a year of having it                                                                                                                                                                                                                                                                                                                                                                                                                                                                            |1    |\n",
      "|I cannot scroll through a DVD menu that is set up vertically The triangle keys will only select horizontally So I cannot select anything on most DVDs besides play No special features no language select nothing just play                                                                                                                                                                                                                                                                                                                                                                                                                                                                                                                                                                                                                                        |1    |\n",
      "|Exotic tales of the Orient from the s Dr Shen Fu a Weird Tales magazine reprint is about the elixir of life that grants immortality at a price If youre tired of modern authors who all sound alike this is the antidote for you Owens palette is loaded with splashes of Chinese and Japanese colours Marvelous                                                                                                                                                                                                                                                                                                                                                                                                                                                                                                                                                   |2    |\n",
      "|FirstlyI enjoyed the format and tone of the book how the author addressed the reader However I did not feel that she imparted any insider secrets that the book promised to reveal If you are just starting to research law school and do not know all the requirements of admission then this book may be a tremendous help If you have done your homework and are looking for an edge when it comes to admissions I recommend some more topicspecific books For example books on how to write your personal statment books geared specifically towards LSAT preparation Powerscore books were the most helpful for me and there are some websites with great advice geared towards aiding the individuals whom you are asking to write letters of recommendation Yet for those new to the entire affair this book can definitely clarify the requirements for you|1    |\n",
      "|I currently live in Europe and this is the book I recommend for my visitors It covers many countries colour pictures and is a nice starter for before you go and once you are there                                                                                                                                                                                                                                                                                                                                                                                                                                                                                                                                                                                                                                                                                |2    |\n",
      "|If you want to listen to El Duke  then it is better if you have access to his showerthis is not him it is a gimmickvery well orchestrated                                                                                                                                                                                                                                                                                                                                                                                                                                                                                                                                                                                                                                                                                                                          |1    |\n",
      "|This game requires quicktime  to workif you have a better version of quicktime I have  it will ask you to install the quicktime available on the CDif you click no it will not let you play So I begrudgingly clicked yes on the third try and it installed quicktime  THEN it tells me to please install the quicktime available on the disc It KEPT telling me that even after I uninstalled my version of quicktime  and reinstalled Barbie Rapunzel and quicktime  Very frustrating and the game absolutely will not work for me It keeps telling me over and over to install quicktime  tho Ive been through the installation process repeatedly It is NOT my operating system limitations This is a brand new computermerely weeks old with all the state of the art contraptions                                                                            |1    |\n",
      "|I have been using this product for a couple years now I started using it because my hair had gotten so dry from all the chemical treatments and relaxers This actualy came in the relaxer kit I tried it and could not beleive the difference it made with one use I could not find it in any of the stores at the time so I searched Amazon and they had it I absolutely love it It is the best moisturizing product I have used so far My hair is soft with good elasticity and it is not breaking anywhere close to what it was I am very happy with it                                                                                                                                                                                                                                                                                                         |2    |\n",
      "|Was hoping that this drive would run off of bus power but it required the adapter to actually work                                                                                                                                                                                                                                                                                                                                                                                                                                                                                                                                                                                                                                                                                                                                                                 |1    |\n",
      "|First of all the company took my money and sent me an email telling me the product was shipped A week and a half later I received another email telling me that they are sorry but they dont actually have any of these items and if I received an email telling me it has shipped it was a mistakeWhen I finally got my money back I went through another company to buy the product and it wont work with my phone even though it depicts that it will I have sent numerous emails to the company  I cant actually find a phone number on their website  and I still have not gotten any kind of response What kind of customer service is that No one will help me with this problem My advice  dont waste your money                                                                                                                                           |1    |\n",
      "|This is an AWESOME game Almost everyone know tictactoe so it is EASY to learn and quick to play You cant play just once The twist is that your pieces are slightly different sizes  just big enough to gobble up your opponent The first person to make tictactoe wins but its not as easy as it looks when youre stuck in the mindset of just making three in a row and forget about the gobbling possibilities My  and  year olds will beat me even when Im trying to win Excellent beginning critical thinking game Grandparents loved playing it with the kids too                                                                                                                                                                                                                                                                                             |2    |\n",
      "|For the price of  this PC game is WELL worth it great graphics colorful and lots to do My four year old daughter is in love with the many tasks to complete in this game including dressing and grooming wide variety of pets and decoration of numerous floats to show in your little ones very own parade                                                                                                                                                                                                                                                                                                                                                                                                                                                                                                                                                        |2    |\n",
      "|Y ESTE LIBRO EST ESPLNDIDO Lo disfrutas lo puedes usar como obra de consultaNos trae LAS HISTORIA DE LOS BOXEADORES MS BRILLANTES DE LOS CAMPEONES DURANTE CIEN AOS Si te gusta el boxNO TE LO PIERDAS                                                                                                                                                                                                                                                                                                                                                                                                                                                                                                                                                                                                                                                             |2    |\n",
      "|This is an excellent album with some great fiddle playing Ryan is amazing to watch when he plays in person You can feel the emotion he puts into each song                                                                                                                                                                                                                                                                                                                                                                                                                                                                                                                                                                                                                                                                                                         |2    |\n",
      "+-------------------------------------------------------------------------------------------------------------------------------------------------------------------------------------------------------------------------------------------------------------------------------------------------------------------------------------------------------------------------------------------------------------------------------------------------------------------------------------------------------------------------------------------------------------------------------------------------------------------------------------------------------------------------------------------------------------------------------------------------------------------------------------------------------------------------------------------------------------------+-----+\n",
      "only showing top 20 rows\n",
      "\n"
     ]
    }
   ],
   "source": [
    "# No URL removal, must be addressed\n",
    "train_data = train_data.select(regexp_replace(col(\"text\"),\"[^a-zA-Z]\", \"\").alias(\"noiseRemoval\"), \"label\")\n",
    "train_data.show(truncate=False)\n",
    "test_data = test_data.select(regexp_replace(col(\"text\"),\"[^a-zA-Z]\", \"\").alias(\"noiseRemoval\"), \"label\")\n",
    "test_data.show(truncate=False)"
   ]
  },
  {
   "cell_type": "markdown",
   "metadata": {},
   "source": [
    "## 2. Tokenization"
   ]
  },
  {
   "cell_type": "code",
   "execution_count": 88,
   "metadata": {},
   "outputs": [
    {
     "data": {
      "text/plain": [
       "'\\ntrain_data = tokenizer.transform(train_data).select(\"tokens\")\\ntrain_data.show(truncate=False)\\ntest_data = tokenizer.transform(test_data).select(\"tokens\")\\ntest_data.show(truncate=False)\\n'"
      ]
     },
     "execution_count": 88,
     "metadata": {},
     "output_type": "execute_result"
    }
   ],
   "source": [
    "tokenizer = Tokenizer(inputCol=\"noiseRemoval\", outputCol=\"tokens\")\n",
    "'''\n",
    "train_data = tokenizer.transform(train_data).select(\"tokens\")\n",
    "train_data.show(truncate=False)\n",
    "test_data = tokenizer.transform(test_data).select(\"tokens\")\n",
    "test_data.show(truncate=False)\n",
    "'''"
   ]
  },
  {
   "cell_type": "markdown",
   "metadata": {},
   "source": [
    "## 3. Stopwords Removal"
   ]
  },
  {
   "cell_type": "code",
   "execution_count": 89,
   "metadata": {},
   "outputs": [
    {
     "data": {
      "text/plain": [
       "'\\ntrain_data = remover.transform(train_data).select(\"tokensWithoutStopwords\")\\ntrain_data.show(truncate=False)\\ntest_data = remover.transform(test_data).select(\"tokensWithoutStopwords\")\\ntest_data.show(truncate=False)\\n'"
      ]
     },
     "execution_count": 89,
     "metadata": {},
     "output_type": "execute_result"
    }
   ],
   "source": [
    "remover = StopWordsRemover(inputCol=\"tokens\", outputCol=\"tokensWithoutStopwords\")\n",
    "# Haven't checked of stopwords that are not contained in spark. Must be addressed.\n",
    "'''\n",
    "train_data = remover.transform(train_data).select(\"tokensWithoutStopwords\")\n",
    "train_data.show(truncate=False)\n",
    "test_data = remover.transform(test_data).select(\"tokensWithoutStopwords\")\n",
    "test_data.show(truncate=False)\n",
    "'''"
   ]
  },
  {
   "cell_type": "markdown",
   "metadata": {},
   "source": [
    "# Feature Extraction"
   ]
  },
  {
   "cell_type": "code",
   "execution_count": 90,
   "metadata": {},
   "outputs": [
    {
     "name": "stdout",
     "output_type": "stream",
     "text": [
      "+--------------------+-----+--------------------+----------------------+--------------------+--------------------+------+\n",
      "|        noiseRemoval|label|              tokens|tokensWithoutStopwords|         rawFeatures|            features|target|\n",
      "+--------------------+-----+--------------------+----------------------+--------------------+--------------------+------+\n",
      "|This sound track ...|    2|[this, sound, tra...|  [sound, track, be...|(20,[0,3,4,5,6,7,...|(20,[0,3,4,5,6,7,...|   1.0|\n",
      "|Im reading a lot ...|    2|[im, reading, a, ...|  [im, reading, lot...|(20,[0,1,2,3,4,5,...|(20,[0,1,2,3,4,5,...|   1.0|\n",
      "|This soundtrack i...|    2|[this, soundtrack...|  [soundtrack, favo...|(20,[0,1,3,5,6,7,...|(20,[0,1,3,5,6,7,...|   1.0|\n",
      "|I truly like this...|    2|[i, truly, like, ...|  [truly, like, sou...|(20,[0,1,4,5,6,7,...|(20,[0,1,4,5,6,7,...|   1.0|\n",
      "|If youve played t...|    2|[if, youve, playe...|  [youve, played, g...|(20,[4,5,8,10,11,...|(20,[4,5,8,10,11,...|   1.0|\n",
      "|I am quite sure a...|    2|[i, am, quite, su...|  [quite, sure, act...|(20,[0,1,2,3,4,5,...|(20,[0,1,2,3,4,5,...|   1.0|\n",
      "|This is a selfpub...|    1|[this, is, a, sel...|  [selfpublished, b...|(20,[0,1,3,4,5,6,...|(20,[0,1,3,4,5,6,...|   0.0|\n",
      "|I loved Whisper o...|    2|[i, loved, whispe...|  [loved, whisper, ...|(20,[0,2,3,4,5,6,...|(20,[0,2,3,4,5,6,...|   1.0|\n",
      "|I just finished r...|    2|[i, just, finishe...|  [finished, readin...|(20,[0,2,3,4,5,6,...|(20,[0,2,3,4,5,6,...|   1.0|\n",
      "|This was a easy t...|    2|[this, was, a, ea...|  [easy, read, book...|(20,[0,1,2,4,5,8,...|(20,[0,1,2,4,5,8,...|   1.0|\n",
      "|A complete waste ...|    1|[a, complete, was...|  [complete, waste,...|(20,[0,2,3,4,6,7,...|(20,[0,2,3,4,6,7,...|   0.0|\n",
      "|This was a great ...|    2|[this, was, a, gr...|  [great, booki, pu...|(20,[0,1,3,4,5,6,...|(20,[0,1,3,4,5,6,...|   1.0|\n",
      "|I thought this bo...|    2|[i, thought, this...|  [thought, book, b...|(20,[1,2,5,6,7,8,...|(20,[1,2,5,6,7,8,...|   1.0|\n",
      "|I guess you have ...|    1|[i, guess, you, h...|  [guess, romance, ...|(20,[2,3,4,5,6,7,...|(20,[2,3,4,5,6,7,...|   0.0|\n",
      "|I feel I have to ...|    1|[i, feel, i, have...|  [feel, write, kee...|(20,[0,1,2,3,4,5,...|(20,[0,1,2,3,4,5,...|   0.0|\n",
      "|Its glaringly obv...|    1|[its, glaringly, ...|  [glaringly, obvio...|(20,[0,2,3,4,6,9,...|(20,[0,2,3,4,6,9,...|   0.0|\n",
      "|When you hear fol...|    2|[when, you, hear,...|  [hear, folks, say...|(20,[0,1,2,3,4,5,...|(20,[0,1,2,3,4,5,...|   1.0|\n",
      "|After I had a DVT...|    2|[after, i, had, a...|  [dvt, doctor, req...|(20,[0,1,2,3,4,5,...|(20,[0,1,2,3,4,5,...|   1.0|\n",
      "|Excellent product...|    2|[excellent, produ...|  [excellent, produ...|(20,[0,1,2,4,5,6,...|(20,[0,1,2,4,5,6,...|   1.0|\n",
      "|sizes are much sm...|    1|[sizes, are, much...|  [sizes, much, sma...|(20,[1,2,3,4,8,11...|(20,[1,2,3,4,8,11...|   0.0|\n",
      "+--------------------+-----+--------------------+----------------------+--------------------+--------------------+------+\n",
      "only showing top 20 rows\n",
      "\n",
      "+--------------------+-----+--------------------+----------------------+--------------------+--------------------+------+\n",
      "|        noiseRemoval|label|              tokens|tokensWithoutStopwords|         rawFeatures|            features|target|\n",
      "+--------------------+-----+--------------------+----------------------+--------------------+--------------------+------+\n",
      "|My lovely Pat has...|    2|[my, lovely, pat,...|  [lovely, pat, one...|(20,[0,1,2,4,5,6,...|(20,[0,1,2,4,5,6,...|   1.0|\n",
      "|Despite the fact ...|    2|[despite, the, fa...|  [despite, fact, p...|(20,[0,2,3,4,5,6,...|(20,[0,2,3,4,5,6,...|   1.0|\n",
      "|I bought this cha...|    1|[i, bought, this,...|  [bought, charger,...|(20,[0,1,3,4,5,8,...|(20,[0,1,3,4,5,8,...|   0.0|\n",
      "|Check out Maha En...|    2|[check, out, maha...|  [check, maha, ene...|(20,[0,1,2,4,6,9,...|(20,[0,1,2,4,6,9,...|   1.0|\n",
      "|Reviewed quite a ...|    2|[reviewed, quite,...|  [reviewed, quite,...|(20,[0,2,3,4,5,6,...|(20,[0,2,3,4,5,6,...|   1.0|\n",
      "|I also began havi...|    1|[i, also, began, ...|  [also, began, inc...|(20,[0,1,2,3,4,5,...|(20,[0,1,2,3,4,5,...|   0.0|\n",
      "|I love the style ...|    1|[i, love, the, st...|  [love, style, cou...|(20,[0,1,2,4,5,6,...|(20,[0,1,2,4,5,6,...|   0.0|\n",
      "|I cannot scroll t...|    1|[i, cannot, scrol...|  [scroll, dvd, men...|(20,[1,4,5,7,9,10...|(20,[1,4,5,7,9,10...|   0.0|\n",
      "|Exotic tales of t...|    2|[exotic, tales, o...|  [exotic, tales, o...|(20,[0,1,2,3,4,6,...|(20,[0,1,2,3,4,6,...|   1.0|\n",
      "|FirstlyI enjoyed ...|    1|[firstlyi, enjoye...|  [firstlyi, enjoye...|(20,[0,1,2,3,4,5,...|(20,[0,1,2,3,4,5,...|   0.0|\n",
      "|I currently live ...|    2|[i, currently, li...|  [currently, live,...|(20,[1,2,3,6,7,8,...|(20,[1,2,3,6,7,8,...|   1.0|\n",
      "|If you want to li...|    1|[if, you, want, t...|  [want, listen, el...|(20,[1,3,4,7,9,12...|(20,[1,3,4,7,9,12...|   0.0|\n",
      "|This game require...|    1|[this, game, requ...|  [game, requires, ...|(20,[0,1,2,3,4,5,...|(20,[0,1,2,3,4,5,...|   0.0|\n",
      "|I have been using...|    2|[i, have, been, u...|  [using, product, ...|(20,[0,1,3,4,5,6,...|(20,[0,1,3,4,5,6,...|   1.0|\n",
      "|Was hoping that t...|    1|[was, hoping, tha...|  [hoping, drive, r...|(20,[0,3,4,5,7,9,...|(20,[0,3,4,5,7,9,...|   0.0|\n",
      "|First of all the ...|    1|[first, of, all, ...|  [first, company, ...|(20,[0,1,2,3,4,5,...|(20,[0,1,2,3,4,5,...|   0.0|\n",
      "|This is an AWESOM...|    2|[this, is, an, aw...|  [awesome, game, a...|(20,[0,1,2,3,5,6,...|(20,[0,1,2,3,5,6,...|   1.0|\n",
      "|For the price of ...|    2|[for, the, price,...|  [price, , pc, gam...|(20,[0,1,2,3,4,5,...|(20,[0,1,2,3,4,5,...|   1.0|\n",
      "|Y ESTE LIBRO EST ...|    2|[y, este, libro, ...|  [y, este, libro, ...|(20,[0,1,2,3,4,5,...|(20,[0,1,2,3,4,5,...|   1.0|\n",
      "|This is an excell...|    2|[this, is, an, ex...|  [excellent, album...|(20,[0,1,2,3,7,8,...|(20,[0,1,2,3,7,8,...|   1.0|\n",
      "+--------------------+-----+--------------------+----------------------+--------------------+--------------------+------+\n",
      "only showing top 20 rows\n",
      "\n"
     ]
    }
   ],
   "source": [
    "count_vectorizer = CountVectorizer(inputCol=\"tokensWithoutStopwords\", outputCol=\"rawFeatures\", numFeatures=20)\n",
    "idf = IDF(inputCol=\"rawFeatures\", outputCol=\"features\")\n",
    "label_to_index = StringIndexer(inputCol = \"label\", outputCol = \"target\")\n",
    "\n",
    "pipeline = Pipeline(stages=[tokenizer, remover, count_vectorizer, idf, label_to_index])\n",
    "\n",
    "fitting = pipeline.fit(train_data)\n",
    "train_data = fitting.transform(train_data)\n",
    "test_data = fitting.transform(test_data)\n",
    "train_data.show()\n",
    "test_data.show()"
   ]
  }
 ],
 "metadata": {
  "kernelspec": {
   "display_name": "Python 3",
   "language": "python",
   "name": "python3"
  },
  "language_info": {
   "codemirror_mode": {
    "name": "ipython",
    "version": 3
   },
   "file_extension": ".py",
   "mimetype": "text/x-python",
   "name": "python",
   "nbconvert_exporter": "python",
   "pygments_lexer": "ipython3",
   "version": "3.7.4"
  }
 },
 "nbformat": 4,
 "nbformat_minor": 2
}
